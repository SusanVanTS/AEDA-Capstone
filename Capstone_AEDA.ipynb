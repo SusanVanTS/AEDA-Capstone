{
 "cells": [
  {
   "cell_type": "markdown",
   "id": "d2f3b150",
   "metadata": {},
   "source": [
    "# CAPSTONE\n"
   ]
  },
  {
   "cell_type": "markdown",
   "id": "c333b77d",
   "metadata": {},
   "source": [
    "#### Instructions:\n",
    "Write python codes to answer all the 7 questions. \n",
    "Save the python notebook as (.ipynb) file.\n",
    "Prepare power point slides to present the output of every question.\n",
    "One group needs to submit only one folder including python notebook and power point slides and upload to the submission folder. "
   ]
  },
  {
   "cell_type": "markdown",
   "id": "bd6af62f",
   "metadata": {},
   "source": [
    "#### Perform data cleaning/ pre-processing before starting the data analysis. "
   ]
  },
  {
   "cell_type": "code",
   "execution_count": 1,
   "id": "b4b1c2a6",
   "metadata": {},
   "outputs": [],
   "source": [
    "import numpy as np\n",
    "import pandas as pd\n",
    "import matplotlib as plt\n",
    "import seaborn as sns \n",
    "import glob\n",
    "import os"
   ]
  },
  {
   "cell_type": "markdown",
   "id": "b33563b9",
   "metadata": {},
   "source": [
    "Question 1: Load the given data and **describe** the dataset using variable type, data type, total column, total rows and other parameters. "
   ]
  },
  {
   "cell_type": "code",
   "execution_count": 2,
   "id": "3e72cd33",
   "metadata": {},
   "outputs": [
    {
     "data": {
      "text/html": [
       "<div>\n",
       "<style scoped>\n",
       "    .dataframe tbody tr th:only-of-type {\n",
       "        vertical-align: middle;\n",
       "    }\n",
       "\n",
       "    .dataframe tbody tr th {\n",
       "        vertical-align: top;\n",
       "    }\n",
       "\n",
       "    .dataframe thead th {\n",
       "        text-align: right;\n",
       "    }\n",
       "</style>\n",
       "<table border=\"1\" class=\"dataframe\">\n",
       "  <thead>\n",
       "    <tr style=\"text-align: right;\">\n",
       "      <th></th>\n",
       "      <th>text</th>\n",
       "      <th>label</th>\n",
       "    </tr>\n",
       "  </thead>\n",
       "  <tbody>\n",
       "  </tbody>\n",
       "</table>\n",
       "</div>"
      ],
      "text/plain": [
       "Empty DataFrame\n",
       "Columns: [text, label]\n",
       "Index: []"
      ]
     },
     "execution_count": 2,
     "metadata": {},
     "output_type": "execute_result"
    }
   ],
   "source": [
    "positive_list = glob.glob(\"./data/positive/*.json\")\n",
    "negative_list = glob.glob(\"./data/negative/*.json\")\n",
    "\n",
    "positive_list.sort()\n",
    "negative_list.sort()\n",
    "\n",
    "data = pd.DataFrame(columns=('text', 'label'))\n",
    "data.head()"
   ]
  },
  {
   "cell_type": "code",
   "execution_count": 3,
   "id": "f4dc12fb",
   "metadata": {},
   "outputs": [
    {
     "name": "stdout",
     "output_type": "stream",
     "text": [
      "(95778, 2)\n"
     ]
    },
    {
     "data": {
      "text/html": [
       "<div>\n",
       "<style scoped>\n",
       "    .dataframe tbody tr th:only-of-type {\n",
       "        vertical-align: middle;\n",
       "    }\n",
       "\n",
       "    .dataframe tbody tr th {\n",
       "        vertical-align: top;\n",
       "    }\n",
       "\n",
       "    .dataframe thead th {\n",
       "        text-align: right;\n",
       "    }\n",
       "</style>\n",
       "<table border=\"1\" class=\"dataframe\">\n",
       "  <thead>\n",
       "    <tr style=\"text-align: right;\">\n",
       "      <th></th>\n",
       "      <th>0</th>\n",
       "      <th>label</th>\n",
       "    </tr>\n",
       "  </thead>\n",
       "  <tbody>\n",
       "    <tr>\n",
       "      <th>0</th>\n",
       "      <td>saya sayang awak adalah yang terbaik! !</td>\n",
       "      <td>1</td>\n",
       "    </tr>\n",
       "    <tr>\n",
       "      <th>1</th>\n",
       "      <td>dia mempunyai kesan ke atas semua orang</td>\n",
       "      <td>1</td>\n",
       "    </tr>\n",
       "    <tr>\n",
       "      <th>2</th>\n",
       "      <td>Terima kasih untuk maklum balas anda . saya su...</td>\n",
       "      <td>1</td>\n",
       "    </tr>\n",
       "    <tr>\n",
       "      <th>3</th>\n",
       "      <td>ah, selamatkan mr fletcher untuk akhirnya berg...</td>\n",
       "      <td>1</td>\n",
       "    </tr>\n",
       "    <tr>\n",
       "      <th>4</th>\n",
       "      <td>Saya menjawab kucing bodoh membantu saya menai...</td>\n",
       "      <td>1</td>\n",
       "    </tr>\n",
       "  </tbody>\n",
       "</table>\n",
       "</div>"
      ],
      "text/plain": [
       "                                                   0  label\n",
       "0            saya sayang awak adalah yang terbaik! !      1\n",
       "1            dia mempunyai kesan ke atas semua orang      1\n",
       "2  Terima kasih untuk maklum balas anda . saya su...      1\n",
       "3  ah, selamatkan mr fletcher untuk akhirnya berg...      1\n",
       "4  Saya menjawab kucing bodoh membantu saya menai...      1"
      ]
     },
     "execution_count": 3,
     "metadata": {},
     "output_type": "execute_result"
    }
   ],
   "source": [
    "df = pd.read_json(positive_list[0])\n",
    "df['label'] = 1\n",
    "\n",
    "data = df.copy()\n",
    "\n",
    "df = pd.read_json(negative_list[0])\n",
    "df['label'] = 0\n",
    "\n",
    "data = pd.concat([data, df])\n",
    "\n",
    "print(data.shape)\n",
    "data.head()"
   ]
  },
  {
   "cell_type": "code",
   "execution_count": 14,
   "id": "9b2f28bb",
   "metadata": {},
   "outputs": [
    {
     "name": "stdout",
     "output_type": "stream",
     "text": [
      "0    48249\n",
      "1    47529\n",
      "Name: label, dtype: int64\n",
      "Negative percentage: 50.375869197519265%\n",
      "Positive percentage: 49.624130802480735%\n"
     ]
    },
    {
     "data": {
      "text/html": [
       "<div>\n",
       "<style scoped>\n",
       "    .dataframe tbody tr th:only-of-type {\n",
       "        vertical-align: middle;\n",
       "    }\n",
       "\n",
       "    .dataframe tbody tr th {\n",
       "        vertical-align: top;\n",
       "    }\n",
       "\n",
       "    .dataframe thead th {\n",
       "        text-align: right;\n",
       "    }\n",
       "</style>\n",
       "<table border=\"1\" class=\"dataframe\">\n",
       "  <thead>\n",
       "    <tr style=\"text-align: right;\">\n",
       "      <th></th>\n",
       "      <th>label</th>\n",
       "    </tr>\n",
       "  </thead>\n",
       "  <tbody>\n",
       "    <tr>\n",
       "      <th>count</th>\n",
       "      <td>95778.000000</td>\n",
       "    </tr>\n",
       "    <tr>\n",
       "      <th>mean</th>\n",
       "      <td>0.496241</td>\n",
       "    </tr>\n",
       "    <tr>\n",
       "      <th>std</th>\n",
       "      <td>0.499988</td>\n",
       "    </tr>\n",
       "    <tr>\n",
       "      <th>min</th>\n",
       "      <td>0.000000</td>\n",
       "    </tr>\n",
       "    <tr>\n",
       "      <th>25%</th>\n",
       "      <td>0.000000</td>\n",
       "    </tr>\n",
       "    <tr>\n",
       "      <th>50%</th>\n",
       "      <td>0.000000</td>\n",
       "    </tr>\n",
       "    <tr>\n",
       "      <th>75%</th>\n",
       "      <td>1.000000</td>\n",
       "    </tr>\n",
       "    <tr>\n",
       "      <th>max</th>\n",
       "      <td>1.000000</td>\n",
       "    </tr>\n",
       "  </tbody>\n",
       "</table>\n",
       "</div>"
      ],
      "text/plain": [
       "              label\n",
       "count  95778.000000\n",
       "mean       0.496241\n",
       "std        0.499988\n",
       "min        0.000000\n",
       "25%        0.000000\n",
       "50%        0.000000\n",
       "75%        1.000000\n",
       "max        1.000000"
      ]
     },
     "execution_count": 14,
     "metadata": {},
     "output_type": "execute_result"
    }
   ],
   "source": [
    "print(data.label.value_counts())\n",
    "print(\"Negative percentage: {}%\".format( (data.label.value_counts()[0] / data.shape[0]) * 100))\n",
    "print(\"Positive percentage: {}%\".format( (data.label.value_counts()[1] / data.shape[0]) * 100))\n",
    "data.describe()"
   ]
  },
  {
   "cell_type": "markdown",
   "id": "b04afe6a",
   "metadata": {},
   "source": [
    "Question 2: Describe the **categorical variables** available in the dataset.  **Visualise** the results based on your creativity. "
   ]
  },
  {
   "cell_type": "code",
   "execution_count": 22,
   "id": "fae624bd",
   "metadata": {},
   "outputs": [
    {
     "data": {
      "image/png": "[encoded data removed]",
      "text/plain": [
       "<Figure size 432x288 with 1 Axes>"
      ]
     },
     "metadata": {
      "needs_background": "light"
     },
     "output_type": "display_data"
    }
   ],
   "source": [
    "data.label.value_counts().plot.bar(title = \"Bar Chart of Positive and Negative Sentiment Data\");"
   ]
  },
  {
   "cell_type": "code",
   "execution_count": 4,
   "id": "f8ab2334",
   "metadata": {},
   "outputs": [
    {
     "name": "stderr",
     "output_type": "stream",
     "text": [
      "C:\\Users\\susan\\anaconda3\\lib\\site-packages\\malaya_boilerplate\\frozen_graph.py:34: UserWarning: Cannot import beam_search_ops from Tensorflow Addons, `deep_model` for stemmer will not available to use, make sure Tensorflow Addons version >= 0.12.0\n",
      "  warnings.warn(\n",
      "Load quantized model will cause accuracy drop.\n"
     ]
    }
   ],
   "source": [
    "import malaya\n",
    "# import sys\n",
    "\n",
    "quantized_model = malaya.toxicity.transformer(model = 'tiny-albert', quantized = True)\n",
    "r1 = np.empty(0)"
   ]
  },
  {
   "cell_type": "code",
   "execution_count": null,
   "id": "22cecdd8",
   "metadata": {},
   "outputs": [],
   "source": [
    "# test = quantized_model.predict_proba(list(reddit_comment_data['comment'][0:10]))\n",
    "for i in range(0, len(data), 50):\n",
    "  if i+50 < len(data):\n",
    "    print(i, i+50, \"x\")\n",
    "    r0 = quantized_model.predict_proba(list(data[0][i:i+50]))\n",
    "    r1 = np.append(r1, r0, axis=0)\n",
    "  else:\n",
    "    print(i, len(reddit_comment_data), \"Y\")\n",
    "    len_data = len(reddit_comment_data)\n",
    "    r0 = quantized_model.predict_proba(list(reddit_comment_data['comment'][i:len_data]))\n",
    "    r1 = np.append(r1, r0, axis=0)\n",
    "\n",
    "# test = dict(sorted(r1[0].items(), key=lambda x:x[1],reverse=True))  # get the most tosic category \n",
    "# test = r1[0] # get the first row of toxicity\n",
    "# test = [x.get('severe toxic') for x in r1]  # get all rows of 'severe toxic'\n",
    "\n",
    "\n",
    "toxicity = pd.DataFrame.from_records(r1)\n",
    "toxicity = pd.concat([reddit_comment_data['comment'], toxicity], axis=1)\n",
    "# plot_img  = plt.figure(figsize = (7, 7))\n",
    "# plt.scatter(range(0,len(r1)), [x.get('positive') for x in r1])\n",
    "\n",
    "# positive = pd.DataFrame({'positive':toxicity})\n",
    "# positive = pd.concat([positive, pd.DataFrame(reddit_comment_data['date'])], axis=1)\n",
    "toxicity.to_csv(\"./panel4_reddit/toxicity_analysis/toxicity.csv\", encoding=\"utf-8\", index=False)"
   ]
  },
  {
   "cell_type": "markdown",
   "id": "85e60903",
   "metadata": {},
   "source": [
    "Question 3: Present the **distribution** of each variable in the dataset. **Interpret** the results."
   ]
  },
  {
   "cell_type": "markdown",
   "id": "02c80d0b",
   "metadata": {},
   "source": [
    "Question 4: Present the **correlation** between all the **numeric variables**. **Explain** the relationship between the variables using correlation values."
   ]
  },
  {
   "cell_type": "markdown",
   "id": "fae68917",
   "metadata": {},
   "source": [
    "Question 5: Calculate the measures of **central tendancy** and **measures of dispersion** for all the numerical variables. <br>\n",
    "1. Central tendancy: Mean, median, mode\n",
    "2. Measure of dispersion: Variance, Standard Deviation"
   ]
  },
  {
   "cell_type": "markdown",
   "id": "a794d680",
   "metadata": {},
   "source": [
    "Question 6: Consider the given data as entity 1. Design **two more related entities** (entity 2 and entity 3) and design one entity relationship diagram to relate all the three entities.  <br>\n",
    "1. create the variable , but no need the data values"
   ]
  },
  {
   "cell_type": "markdown",
   "id": "ff109f24",
   "metadata": {},
   "source": [
    "Question 7: Develop **3 problem statements** for the given dataset."
   ]
  },
  {
   "cell_type": "markdown",
   "id": "c0f08256",
   "metadata": {},
   "source": [
    "Question 8: Write **3 different SQL statements** to extract specific data from entity1, entity 2 and entity 3 to solve the problems designed in **Question 7**. (combine data from different tables) <br>\n",
    "1. what can be observe from the entity \n",
    "2. then how to resolve it by using sql?"
   ]
  },
  {
   "cell_type": "code",
   "execution_count": null,
   "id": "0917509b",
   "metadata": {},
   "outputs": [],
   "source": []
  }
 ],
 "metadata": {
  "kernelspec": {
   "display_name": "Python 3 (ipykernel)",
   "language": "python",
   "name": "python3"
  },
  "language_info": {
   "codemirror_mode": {
    "name": "ipython",
    "version": 3
   },
   "file_extension": ".py",
   "mimetype": "text/x-python",
   "name": "python",
   "nbconvert_exporter": "python",
   "pygments_lexer": "ipython3",
   "version": "3.9.7"
  },
  "varInspector": {
   "cols": {
    "lenName": 16,
    "lenType": 16,
    "lenVar": 40
   },
   "kernels_config": {
    "python": {
     "delete_cmd_postfix": "",
     "delete_cmd_prefix": "del ",
     "library": "var_list.py",
     "varRefreshCmd": "print(var_dic_list())"
    },
    "r": {
     "delete_cmd_postfix": ") ",
     "delete_cmd_prefix": "rm(",
     "library": "var_list.r",
     "varRefreshCmd": "cat(var_dic_list()) "
    }
   },
   "position": {
    "height": "836.844px",
    "left": "1531px",
    "right": "20px",
    "top": "117px",
    "width": "350px"
   },
   "types_to_exclude": [
    "module",
    "function",
    "builtin_function_or_method",
    "instance",
    "_Feature"
   ],
   "window_display": true
  }
 },
 "nbformat": 4,
 "nbformat_minor": 5
}
