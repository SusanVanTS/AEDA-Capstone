{
 "cells": [
  {
   "cell_type": "markdown",
   "id": "d2f3b150",
   "metadata": {},
   "source": [
    "# CAPSTONE\n"
   ]
  },
  {
   "cell_type": "markdown",
   "id": "c333b77d",
   "metadata": {},
   "source": [
    "#### Instructions:\n",
    "Write python codes to answer all the 7 questions. \n",
    "Save the python notebook as (.ipynb) file.\n",
    "Prepare power point slides to present the output of every question.\n",
    "One group needs to submit only one folder including python notebook and power point slides and upload to the submission folder. "
   ]
  },
  {
   "cell_type": "markdown",
   "id": "bd6af62f",
   "metadata": {},
   "source": [
    "#### Perform data cleaning/ pre-processing before starting the data analysis. "
   ]
  },
  {
   "cell_type": "code",
   "execution_count": 1,
   "id": "b4b1c2a6",
   "metadata": {},
   "outputs": [],
   "source": [
    "import numpy as np\n",
    "import pandas as pd\n",
    "import matplotlib.pyplot as plt\n",
    "import seaborn as sns \n",
    "import glob\n",
    "import os\n",
    "import janitor as jn\n",
    "import statistics as st\n",
    "from scipy.stats import norm, poisson, uniform, skew, kurtosis, iqr \n",
    "import string"
   ]
  },
  {
   "cell_type": "markdown",
   "id": "b33563b9",
   "metadata": {},
   "source": [
    "Question 1: Load the given data and **describe** the dataset using variable type, data type, total column, total rows and other parameters. "
   ]
  },
  {
   "cell_type": "code",
   "execution_count": 2,
   "id": "e4a575b1",
   "metadata": {},
   "outputs": [],
   "source": [
    "xlsx = pd.ExcelFile('./data/Supply chain logisitcs problem.xlsx')\n",
    "\n",
    "for sheet in xlsx.sheet_names:\n",
    "    globals()[f\"{sheet}_data\"] = pd.DataFrame(xlsx.parse(sheet))"
   ]
  },
  {
   "cell_type": "code",
   "execution_count": 3,
   "id": "f4dc12fb",
   "metadata": {},
   "outputs": [
    {
     "name": "stdout",
     "output_type": "stream",
     "text": [
      "['OrderList_data', 'FreightRates_data', 'WhCosts_data', 'WhCapacities_data', 'ProductsPerPlant_data', 'VmiCustomers_data', 'PlantPorts_data']\n"
     ]
    }
   ],
   "source": [
    "sheetname =[]\n",
    "for sheet in xlsx.sheet_names:\n",
    "    sheetname.append(f\"{sheet}_data\")\n",
    "\n",
    "print(sheetname)"
   ]
  },
  {
   "cell_type": "code",
   "execution_count": 4,
   "id": "eede853c",
   "metadata": {},
   "outputs": [
    {
     "data": {
      "text/html": [
       "<div>\n",
       "<style scoped>\n",
       "    .dataframe tbody tr th:only-of-type {\n",
       "        vertical-align: middle;\n",
       "    }\n",
       "\n",
       "    .dataframe tbody tr th {\n",
       "        vertical-align: top;\n",
       "    }\n",
       "\n",
       "    .dataframe thead th {\n",
       "        text-align: right;\n",
       "    }\n",
       "</style>\n",
       "<table border=\"1\" class=\"dataframe\">\n",
       "  <thead>\n",
       "    <tr style=\"text-align: right;\">\n",
       "      <th></th>\n",
       "      <th>Order ID</th>\n",
       "      <th>Order Date</th>\n",
       "      <th>Origin Port</th>\n",
       "      <th>Carrier</th>\n",
       "      <th>TPT</th>\n",
       "      <th>Service Level</th>\n",
       "      <th>Ship ahead day count</th>\n",
       "      <th>Ship Late Day count</th>\n",
       "      <th>Customer</th>\n",
       "      <th>Product ID</th>\n",
       "      <th>Plant Code</th>\n",
       "      <th>Destination Port</th>\n",
       "      <th>Unit quantity</th>\n",
       "      <th>Weight</th>\n",
       "    </tr>\n",
       "  </thead>\n",
       "  <tbody>\n",
       "    <tr>\n",
       "      <th>0</th>\n",
       "      <td>1.447296e+09</td>\n",
       "      <td>2013-05-26</td>\n",
       "      <td>PORT09</td>\n",
       "      <td>V44_3</td>\n",
       "      <td>1</td>\n",
       "      <td>CRF</td>\n",
       "      <td>3</td>\n",
       "      <td>0</td>\n",
       "      <td>V55555_53</td>\n",
       "      <td>1700106</td>\n",
       "      <td>PLANT16</td>\n",
       "      <td>PORT09</td>\n",
       "      <td>808</td>\n",
       "      <td>14.30</td>\n",
       "    </tr>\n",
       "    <tr>\n",
       "      <th>1</th>\n",
       "      <td>1.447158e+09</td>\n",
       "      <td>2013-05-26</td>\n",
       "      <td>PORT09</td>\n",
       "      <td>V44_3</td>\n",
       "      <td>1</td>\n",
       "      <td>CRF</td>\n",
       "      <td>3</td>\n",
       "      <td>0</td>\n",
       "      <td>V55555_53</td>\n",
       "      <td>1700106</td>\n",
       "      <td>PLANT16</td>\n",
       "      <td>PORT09</td>\n",
       "      <td>3188</td>\n",
       "      <td>87.94</td>\n",
       "    </tr>\n",
       "    <tr>\n",
       "      <th>2</th>\n",
       "      <td>1.447139e+09</td>\n",
       "      <td>2013-05-26</td>\n",
       "      <td>PORT09</td>\n",
       "      <td>V44_3</td>\n",
       "      <td>1</td>\n",
       "      <td>CRF</td>\n",
       "      <td>3</td>\n",
       "      <td>0</td>\n",
       "      <td>V55555_53</td>\n",
       "      <td>1700106</td>\n",
       "      <td>PLANT16</td>\n",
       "      <td>PORT09</td>\n",
       "      <td>2331</td>\n",
       "      <td>61.20</td>\n",
       "    </tr>\n",
       "    <tr>\n",
       "      <th>3</th>\n",
       "      <td>1.447364e+09</td>\n",
       "      <td>2013-05-26</td>\n",
       "      <td>PORT09</td>\n",
       "      <td>V44_3</td>\n",
       "      <td>1</td>\n",
       "      <td>CRF</td>\n",
       "      <td>3</td>\n",
       "      <td>0</td>\n",
       "      <td>V55555_53</td>\n",
       "      <td>1700106</td>\n",
       "      <td>PLANT16</td>\n",
       "      <td>PORT09</td>\n",
       "      <td>847</td>\n",
       "      <td>16.16</td>\n",
       "    </tr>\n",
       "    <tr>\n",
       "      <th>4</th>\n",
       "      <td>1.447364e+09</td>\n",
       "      <td>2013-05-26</td>\n",
       "      <td>PORT09</td>\n",
       "      <td>V44_3</td>\n",
       "      <td>1</td>\n",
       "      <td>CRF</td>\n",
       "      <td>3</td>\n",
       "      <td>0</td>\n",
       "      <td>V55555_53</td>\n",
       "      <td>1700106</td>\n",
       "      <td>PLANT16</td>\n",
       "      <td>PORT09</td>\n",
       "      <td>2163</td>\n",
       "      <td>52.34</td>\n",
       "    </tr>\n",
       "  </tbody>\n",
       "</table>\n",
       "</div>"
      ],
      "text/plain": [
       "       Order ID Order Date Origin Port Carrier  TPT Service Level  \\\n",
       "0  1.447296e+09 2013-05-26      PORT09   V44_3    1           CRF   \n",
       "1  1.447158e+09 2013-05-26      PORT09   V44_3    1           CRF   \n",
       "2  1.447139e+09 2013-05-26      PORT09   V44_3    1           CRF   \n",
       "3  1.447364e+09 2013-05-26      PORT09   V44_3    1           CRF   \n",
       "4  1.447364e+09 2013-05-26      PORT09   V44_3    1           CRF   \n",
       "\n",
       "   Ship ahead day count  Ship Late Day count   Customer  Product ID  \\\n",
       "0                     3                    0  V55555_53     1700106   \n",
       "1                     3                    0  V55555_53     1700106   \n",
       "2                     3                    0  V55555_53     1700106   \n",
       "3                     3                    0  V55555_53     1700106   \n",
       "4                     3                    0  V55555_53     1700106   \n",
       "\n",
       "  Plant Code Destination Port  Unit quantity  Weight  \n",
       "0    PLANT16           PORT09            808   14.30  \n",
       "1    PLANT16           PORT09           3188   87.94  \n",
       "2    PLANT16           PORT09           2331   61.20  \n",
       "3    PLANT16           PORT09            847   16.16  \n",
       "4    PLANT16           PORT09           2163   52.34  "
      ]
     },
     "execution_count": 4,
     "metadata": {},
     "output_type": "execute_result"
    }
   ],
   "source": [
    "OrderList_data.head()"
   ]
  },
  {
   "cell_type": "code",
   "execution_count": 5,
   "id": "c8b76d1c",
   "metadata": {},
   "outputs": [
    {
     "data": {
      "text/plain": [
       "array(['CRF', 'DTP', 'DTD'], dtype=object)"
      ]
     },
     "execution_count": 5,
     "metadata": {},
     "output_type": "execute_result"
    }
   ],
   "source": [
    "OrderList_data['Service Level'].unique()\n",
    "# DTD (Door to Door), DTP (Door to Port) or CRF (Customer Referred Freight)"
   ]
  },
  {
   "cell_type": "code",
   "execution_count": 6,
   "id": "9b2f28bb",
   "metadata": {},
   "outputs": [
    {
     "name": "stdout",
     "output_type": "stream",
     "text": [
      "<class 'pandas.core.frame.DataFrame'>\n",
      "RangeIndex: 9215 entries, 0 to 9214\n",
      "Data columns (total 14 columns):\n",
      " #   Column                Non-Null Count  Dtype         \n",
      "---  ------                --------------  -----         \n",
      " 0   Order ID              9215 non-null   float64       \n",
      " 1   Order Date            9215 non-null   datetime64[ns]\n",
      " 2   Origin Port           9215 non-null   object        \n",
      " 3   Carrier               9215 non-null   object        \n",
      " 4   TPT                   9215 non-null   int64         \n",
      " 5   Service Level         9215 non-null   object        \n",
      " 6   Ship ahead day count  9215 non-null   int64         \n",
      " 7   Ship Late Day count   9215 non-null   int64         \n",
      " 8   Customer              9215 non-null   object        \n",
      " 9   Product ID            9215 non-null   int64         \n",
      " 10  Plant Code            9215 non-null   object        \n",
      " 11  Destination Port      9215 non-null   object        \n",
      " 12  Unit quantity         9215 non-null   int64         \n",
      " 13  Weight                9215 non-null   float64       \n",
      "dtypes: datetime64[ns](1), float64(2), int64(5), object(6)\n",
      "memory usage: 1008.0+ KB\n",
      "None\n"
     ]
    },
    {
     "data": {
      "text/html": [
       "<div>\n",
       "<style scoped>\n",
       "    .dataframe tbody tr th:only-of-type {\n",
       "        vertical-align: middle;\n",
       "    }\n",
       "\n",
       "    .dataframe tbody tr th {\n",
       "        vertical-align: top;\n",
       "    }\n",
       "\n",
       "    .dataframe thead th {\n",
       "        text-align: right;\n",
       "    }\n",
       "</style>\n",
       "<table border=\"1\" class=\"dataframe\">\n",
       "  <thead>\n",
       "    <tr style=\"text-align: right;\">\n",
       "      <th></th>\n",
       "      <th>Order ID</th>\n",
       "      <th>TPT</th>\n",
       "      <th>Ship ahead day count</th>\n",
       "      <th>Ship Late Day count</th>\n",
       "      <th>Product ID</th>\n",
       "      <th>Unit quantity</th>\n",
       "      <th>Weight</th>\n",
       "    </tr>\n",
       "  </thead>\n",
       "  <tbody>\n",
       "    <tr>\n",
       "      <th>count</th>\n",
       "      <td>9.215000e+03</td>\n",
       "      <td>9215.000000</td>\n",
       "      <td>9215.000000</td>\n",
       "      <td>9215.000000</td>\n",
       "      <td>9.215000e+03</td>\n",
       "      <td>9215.000000</td>\n",
       "      <td>9215.000000</td>\n",
       "    </tr>\n",
       "    <tr>\n",
       "      <th>mean</th>\n",
       "      <td>1.447274e+09</td>\n",
       "      <td>1.717743</td>\n",
       "      <td>1.852306</td>\n",
       "      <td>0.039935</td>\n",
       "      <td>1.680536e+06</td>\n",
       "      <td>3202.747151</td>\n",
       "      <td>19.871688</td>\n",
       "    </tr>\n",
       "    <tr>\n",
       "      <th>std</th>\n",
       "      <td>8.381629e+04</td>\n",
       "      <td>0.630500</td>\n",
       "      <td>1.922302</td>\n",
       "      <td>0.319625</td>\n",
       "      <td>1.526593e+04</td>\n",
       "      <td>15965.622260</td>\n",
       "      <td>66.569064</td>\n",
       "    </tr>\n",
       "    <tr>\n",
       "      <th>min</th>\n",
       "      <td>1.447126e+09</td>\n",
       "      <td>0.000000</td>\n",
       "      <td>0.000000</td>\n",
       "      <td>0.000000</td>\n",
       "      <td>1.613321e+06</td>\n",
       "      <td>235.000000</td>\n",
       "      <td>0.000000</td>\n",
       "    </tr>\n",
       "    <tr>\n",
       "      <th>50%</th>\n",
       "      <td>1.447276e+09</td>\n",
       "      <td>2.000000</td>\n",
       "      <td>3.000000</td>\n",
       "      <td>0.000000</td>\n",
       "      <td>1.683636e+06</td>\n",
       "      <td>477.000000</td>\n",
       "      <td>4.440000</td>\n",
       "    </tr>\n",
       "    <tr>\n",
       "      <th>max</th>\n",
       "      <td>1.447425e+09</td>\n",
       "      <td>4.000000</td>\n",
       "      <td>6.000000</td>\n",
       "      <td>6.000000</td>\n",
       "      <td>1.702654e+06</td>\n",
       "      <td>561847.000000</td>\n",
       "      <td>2338.405126</td>\n",
       "    </tr>\n",
       "  </tbody>\n",
       "</table>\n",
       "</div>"
      ],
      "text/plain": [
       "           Order ID          TPT  Ship ahead day count  Ship Late Day count  \\\n",
       "count  9.215000e+03  9215.000000           9215.000000          9215.000000   \n",
       "mean   1.447274e+09     1.717743              1.852306             0.039935   \n",
       "std    8.381629e+04     0.630500              1.922302             0.319625   \n",
       "min    1.447126e+09     0.000000              0.000000             0.000000   \n",
       "50%    1.447276e+09     2.000000              3.000000             0.000000   \n",
       "max    1.447425e+09     4.000000              6.000000             6.000000   \n",
       "\n",
       "         Product ID  Unit quantity       Weight  \n",
       "count  9.215000e+03    9215.000000  9215.000000  \n",
       "mean   1.680536e+06    3202.747151    19.871688  \n",
       "std    1.526593e+04   15965.622260    66.569064  \n",
       "min    1.613321e+06     235.000000     0.000000  \n",
       "50%    1.683636e+06     477.000000     4.440000  \n",
       "max    1.702654e+06  561847.000000  2338.405126  "
      ]
     },
     "execution_count": 6,
     "metadata": {},
     "output_type": "execute_result"
    }
   ],
   "source": [
    "# print(OrderList_data.value_counts())\n",
    "print(OrderList_data.info())\n",
    "OrderList_data.describe([])"
   ]
  },
  {
   "cell_type": "markdown",
   "id": "b04afe6a",
   "metadata": {},
   "source": [
    "Question 2: Describe the **categorical variables** available in the dataset.  **Visualise** the results based on your creativity. "
   ]
  },
  {
   "cell_type": "code",
   "execution_count": 7,
   "id": "fae624bd",
   "metadata": {},
   "outputs": [
    {
     "data": {
      "text/plain": [
       "<AxesSubplot:title={'center':'Plant Code by Count'}>"
      ]
     },
     "execution_count": 7,
     "metadata": {},
     "output_type": "execute_result"
    },
    {
     "data": {
      "image/png": "[encoded data removed]",
      "text/plain": [
       "<Figure size 432x288 with 1 Axes>"
      ]
     },
     "metadata": {
      "needs_background": "light"
     },
     "output_type": "display_data"
    }
   ],
   "source": [
    "OrderList_data['Plant Code'].value_counts().sort_index().plot.bar(title = \"Plant Code by Count\")"
   ]
  },
  {
   "cell_type": "markdown",
   "id": "782abca4",
   "metadata": {},
   "source": [
    "***PLANT03 is the most famous products.***"
   ]
  },
  {
   "cell_type": "code",
   "execution_count": 8,
   "id": "8c13934e",
   "metadata": {},
   "outputs": [
    {
     "data": {
      "text/plain": [
       "<AxesSubplot:title={'center':'Transportation Day by Count'}>"
      ]
     },
     "execution_count": 8,
     "metadata": {},
     "output_type": "execute_result"
    },
    {
     "data": {
      "image/png": "[encoded data removed]",
      "text/plain": [
       "<Figure size 432x288 with 1 Axes>"
      ]
     },
     "metadata": {
      "needs_background": "light"
     },
     "output_type": "display_data"
    }
   ],
   "source": [
    "OrderList_data['TPT'].value_counts().sort_index().plot.bar(title = \"Transportation Day by Count\")"
   ]
  },
  {
   "cell_type": "markdown",
   "id": "85582345",
   "metadata": {},
   "source": [
    "***From the chart above, it shows that customer will usually receive their order after 2 days of shipping process***"
   ]
  },
  {
   "cell_type": "code",
   "execution_count": 9,
   "id": "ba80516f",
   "metadata": {},
   "outputs": [
    {
     "data": {
      "text/plain": [
       "<AxesSubplot:title={'center':'Service Level by Count'}>"
      ]
     },
     "execution_count": 9,
     "metadata": {},
     "output_type": "execute_result"
    },
    {
     "data": {
      "image/png": "[encoded data removed]",
      "text/plain": [
       "<Figure size 432x288 with 1 Axes>"
      ]
     },
     "metadata": {
      "needs_background": "light"
     },
     "output_type": "display_data"
    }
   ],
   "source": [
    "OrderList_data['Service Level'].value_counts().sort_index().plot.bar(title = \"Service Level by Count\")"
   ]
  },
  {
   "cell_type": "markdown",
   "id": "8dcdc211",
   "metadata": {},
   "source": [
    "***Customer always choose DTP(Door to Port) service***"
   ]
  },
  {
   "cell_type": "markdown",
   "id": "85e60903",
   "metadata": {},
   "source": [
    "Question 3: Present the **distribution** of each variable in the dataset. **Interpret** the results."
   ]
  },
  {
   "cell_type": "code",
   "execution_count": 10,
   "id": "b8172658",
   "metadata": {},
   "outputs": [
    {
     "data": {
      "text/html": [
       "<div>\n",
       "<style scoped>\n",
       "    .dataframe tbody tr th:only-of-type {\n",
       "        vertical-align: middle;\n",
       "    }\n",
       "\n",
       "    .dataframe tbody tr th {\n",
       "        vertical-align: top;\n",
       "    }\n",
       "\n",
       "    .dataframe thead th {\n",
       "        text-align: right;\n",
       "    }\n",
       "</style>\n",
       "<table border=\"1\" class=\"dataframe\">\n",
       "  <thead>\n",
       "    <tr style=\"text-align: right;\">\n",
       "      <th></th>\n",
       "      <th>Order ID</th>\n",
       "      <th>Order Date</th>\n",
       "      <th>Origin Port</th>\n",
       "      <th>Carrier</th>\n",
       "      <th>TPT</th>\n",
       "      <th>Service Level</th>\n",
       "      <th>Ship ahead day count</th>\n",
       "      <th>Ship Late Day count</th>\n",
       "      <th>Customer</th>\n",
       "      <th>Product ID</th>\n",
       "      <th>Plant Code</th>\n",
       "      <th>Destination Port</th>\n",
       "      <th>Unit quantity</th>\n",
       "      <th>Weight</th>\n",
       "    </tr>\n",
       "  </thead>\n",
       "  <tbody>\n",
       "    <tr>\n",
       "      <th>0</th>\n",
       "      <td>1.447296e+09</td>\n",
       "      <td>2013-05-26</td>\n",
       "      <td>PORT09</td>\n",
       "      <td>V44_3</td>\n",
       "      <td>1</td>\n",
       "      <td>CRF</td>\n",
       "      <td>3</td>\n",
       "      <td>0</td>\n",
       "      <td>V55555_53</td>\n",
       "      <td>1700106</td>\n",
       "      <td>PLANT16</td>\n",
       "      <td>PORT09</td>\n",
       "      <td>808</td>\n",
       "      <td>14.30</td>\n",
       "    </tr>\n",
       "    <tr>\n",
       "      <th>1</th>\n",
       "      <td>1.447158e+09</td>\n",
       "      <td>2013-05-26</td>\n",
       "      <td>PORT09</td>\n",
       "      <td>V44_3</td>\n",
       "      <td>1</td>\n",
       "      <td>CRF</td>\n",
       "      <td>3</td>\n",
       "      <td>0</td>\n",
       "      <td>V55555_53</td>\n",
       "      <td>1700106</td>\n",
       "      <td>PLANT16</td>\n",
       "      <td>PORT09</td>\n",
       "      <td>3188</td>\n",
       "      <td>87.94</td>\n",
       "    </tr>\n",
       "    <tr>\n",
       "      <th>2</th>\n",
       "      <td>1.447139e+09</td>\n",
       "      <td>2013-05-26</td>\n",
       "      <td>PORT09</td>\n",
       "      <td>V44_3</td>\n",
       "      <td>1</td>\n",
       "      <td>CRF</td>\n",
       "      <td>3</td>\n",
       "      <td>0</td>\n",
       "      <td>V55555_53</td>\n",
       "      <td>1700106</td>\n",
       "      <td>PLANT16</td>\n",
       "      <td>PORT09</td>\n",
       "      <td>2331</td>\n",
       "      <td>61.20</td>\n",
       "    </tr>\n",
       "    <tr>\n",
       "      <th>3</th>\n",
       "      <td>1.447364e+09</td>\n",
       "      <td>2013-05-26</td>\n",
       "      <td>PORT09</td>\n",
       "      <td>V44_3</td>\n",
       "      <td>1</td>\n",
       "      <td>CRF</td>\n",
       "      <td>3</td>\n",
       "      <td>0</td>\n",
       "      <td>V55555_53</td>\n",
       "      <td>1700106</td>\n",
       "      <td>PLANT16</td>\n",
       "      <td>PORT09</td>\n",
       "      <td>847</td>\n",
       "      <td>16.16</td>\n",
       "    </tr>\n",
       "    <tr>\n",
       "      <th>4</th>\n",
       "      <td>1.447364e+09</td>\n",
       "      <td>2013-05-26</td>\n",
       "      <td>PORT09</td>\n",
       "      <td>V44_3</td>\n",
       "      <td>1</td>\n",
       "      <td>CRF</td>\n",
       "      <td>3</td>\n",
       "      <td>0</td>\n",
       "      <td>V55555_53</td>\n",
       "      <td>1700106</td>\n",
       "      <td>PLANT16</td>\n",
       "      <td>PORT09</td>\n",
       "      <td>2163</td>\n",
       "      <td>52.34</td>\n",
       "    </tr>\n",
       "  </tbody>\n",
       "</table>\n",
       "</div>"
      ],
      "text/plain": [
       "       Order ID Order Date Origin Port Carrier  TPT Service Level  \\\n",
       "0  1.447296e+09 2013-05-26      PORT09   V44_3    1           CRF   \n",
       "1  1.447158e+09 2013-05-26      PORT09   V44_3    1           CRF   \n",
       "2  1.447139e+09 2013-05-26      PORT09   V44_3    1           CRF   \n",
       "3  1.447364e+09 2013-05-26      PORT09   V44_3    1           CRF   \n",
       "4  1.447364e+09 2013-05-26      PORT09   V44_3    1           CRF   \n",
       "\n",
       "   Ship ahead day count  Ship Late Day count   Customer  Product ID  \\\n",
       "0                     3                    0  V55555_53     1700106   \n",
       "1                     3                    0  V55555_53     1700106   \n",
       "2                     3                    0  V55555_53     1700106   \n",
       "3                     3                    0  V55555_53     1700106   \n",
       "4                     3                    0  V55555_53     1700106   \n",
       "\n",
       "  Plant Code Destination Port  Unit quantity  Weight  \n",
       "0    PLANT16           PORT09            808   14.30  \n",
       "1    PLANT16           PORT09           3188   87.94  \n",
       "2    PLANT16           PORT09           2331   61.20  \n",
       "3    PLANT16           PORT09            847   16.16  \n",
       "4    PLANT16           PORT09           2163   52.34  "
      ]
     },
     "execution_count": 10,
     "metadata": {},
     "output_type": "execute_result"
    }
   ],
   "source": [
    "OrderList_data.head()"
   ]
  },
  {
   "cell_type": "code",
   "execution_count": 11,
   "id": "2e06a56f",
   "metadata": {},
   "outputs": [
    {
     "data": {
      "text/html": [
       "<div>\n",
       "<style scoped>\n",
       "    .dataframe tbody tr th:only-of-type {\n",
       "        vertical-align: middle;\n",
       "    }\n",
       "\n",
       "    .dataframe tbody tr th {\n",
       "        vertical-align: top;\n",
       "    }\n",
       "\n",
       "    .dataframe thead th {\n",
       "        text-align: right;\n",
       "    }\n",
       "</style>\n",
       "<table border=\"1\" class=\"dataframe\">\n",
       "  <thead>\n",
       "    <tr style=\"text-align: right;\">\n",
       "      <th></th>\n",
       "      <th>variables</th>\n",
       "      <th>value</th>\n",
       "    </tr>\n",
       "  </thead>\n",
       "  <tbody>\n",
       "    <tr>\n",
       "      <th>0</th>\n",
       "      <td>Weight</td>\n",
       "      <td>14.30</td>\n",
       "    </tr>\n",
       "    <tr>\n",
       "      <th>1</th>\n",
       "      <td>Weight</td>\n",
       "      <td>87.94</td>\n",
       "    </tr>\n",
       "    <tr>\n",
       "      <th>2</th>\n",
       "      <td>Weight</td>\n",
       "      <td>61.20</td>\n",
       "    </tr>\n",
       "    <tr>\n",
       "      <th>3</th>\n",
       "      <td>Weight</td>\n",
       "      <td>16.16</td>\n",
       "    </tr>\n",
       "    <tr>\n",
       "      <th>4</th>\n",
       "      <td>Weight</td>\n",
       "      <td>52.34</td>\n",
       "    </tr>\n",
       "    <tr>\n",
       "      <th>...</th>\n",
       "      <td>...</td>\n",
       "      <td>...</td>\n",
       "    </tr>\n",
       "    <tr>\n",
       "      <th>18425</th>\n",
       "      <td>Unit quantity</td>\n",
       "      <td>339.00</td>\n",
       "    </tr>\n",
       "    <tr>\n",
       "      <th>18426</th>\n",
       "      <td>Unit quantity</td>\n",
       "      <td>339.00</td>\n",
       "    </tr>\n",
       "    <tr>\n",
       "      <th>18427</th>\n",
       "      <td>Unit quantity</td>\n",
       "      <td>245.00</td>\n",
       "    </tr>\n",
       "    <tr>\n",
       "      <th>18428</th>\n",
       "      <td>Unit quantity</td>\n",
       "      <td>278.00</td>\n",
       "    </tr>\n",
       "    <tr>\n",
       "      <th>18429</th>\n",
       "      <td>Unit quantity</td>\n",
       "      <td>317.00</td>\n",
       "    </tr>\n",
       "  </tbody>\n",
       "</table>\n",
       "<p>18430 rows × 2 columns</p>\n",
       "</div>"
      ],
      "text/plain": [
       "           variables   value\n",
       "0             Weight   14.30\n",
       "1             Weight   87.94\n",
       "2             Weight   61.20\n",
       "3             Weight   16.16\n",
       "4             Weight   52.34\n",
       "...              ...     ...\n",
       "18425  Unit quantity  339.00\n",
       "18426  Unit quantity  339.00\n",
       "18427  Unit quantity  245.00\n",
       "18428  Unit quantity  278.00\n",
       "18429  Unit quantity  317.00\n",
       "\n",
       "[18430 rows x 2 columns]"
      ]
     },
     "execution_count": 11,
     "metadata": {},
     "output_type": "execute_result"
    }
   ],
   "source": [
    "# df = OrderList_data.drop('')\n",
    "df = OrderList_data.copy()\n",
    "df = df.pivot_longer(index=None,\n",
    "                   column_names = ['Weight','Unit quantity'], #,'Ship ahead day count','Ship Late Day count'\n",
    "                   names_to = 'variables',\n",
    "                   values_to = 'value'\n",
    "                  )\n",
    "\n",
    "summ_df = df.groupby(\"variables\").agg(['mean', 'median'])\n",
    "df = df[['variables', 'value']]\n",
    "df"
   ]
  },
  {
   "cell_type": "code",
   "execution_count": 12,
   "id": "10992efe",
   "metadata": {},
   "outputs": [
    {
     "data": {
      "text/plain": [
       "561847.0"
      ]
     },
     "execution_count": 12,
     "metadata": {},
     "output_type": "execute_result"
    }
   ],
   "source": [
    "max(df[df['variables']=='Unit quantity']['value'])"
   ]
  },
  {
   "cell_type": "code",
   "execution_count": 13,
   "id": "27c1e4e6",
   "metadata": {},
   "outputs": [
    {
     "data": {
      "text/plain": [
       "<seaborn.axisgrid.FacetGrid at 0x2da9a26cd60>"
      ]
     },
     "execution_count": 13,
     "metadata": {},
     "output_type": "execute_result"
    },
    {
     "data": {
      "image/png": "[encoded data removed]",
      "text/plain": [
       "<Figure size 1149.12x216 with 2 Axes>"
      ]
     },
     "metadata": {
      "needs_background": "light"
     },
     "output_type": "display_data"
    }
   ],
   "source": [
    "g = sns.FacetGrid(df, col = \"variables\", sharex = False, sharey = False, col_wrap = 4, margin_titles=True, height=3, aspect=1.33)\n",
    "g.map(sns.histplot, \"value\")\n",
    "g.set(ylim=(0,200))\n",
    "g.set_xticklabels(rotation=30)"
   ]
  },
  {
   "cell_type": "code",
   "execution_count": 14,
   "id": "53775437",
   "metadata": {},
   "outputs": [],
   "source": [
    "w = df[df['variables']=='Unit quantity']\n",
    "w = w.sort_values('value')\n",
    "# plt.plot(w['value'], norm.pdf(w['value']));"
   ]
  },
  {
   "cell_type": "code",
   "execution_count": 15,
   "id": "6fde98a2",
   "metadata": {},
   "outputs": [
    {
     "data": {
      "image/png": "[encoded data removed]",
      "text/plain": [
       "<Figure size 432x216 with 2 Axes>"
      ]
     },
     "metadata": {
      "needs_background": "light"
     },
     "output_type": "display_data"
    }
   ],
   "source": [
    "g = sns.FacetGrid(df, col = \"variables\", sharex = False)\n",
    "g.map(sns.boxplot, \"value\", order = df.variables.unique());  ####lots of outliers"
   ]
  },
  {
   "cell_type": "code",
   "execution_count": 16,
   "id": "5ef7138d",
   "metadata": {},
   "outputs": [
    {
     "data": {
      "image/png": "[encoded data removed]",
      "text/plain": [
       "<Figure size 432x216 with 2 Axes>"
      ]
     },
     "metadata": {
      "needs_background": "light"
     },
     "output_type": "display_data"
    }
   ],
   "source": [
    "g = sns.FacetGrid(df, col = \"variables\", sharex = False)\n",
    "g.map(sns.boxplot, \"value\", order = df.variables.unique(), showfliers = False);  ### show without outliers"
   ]
  },
  {
   "cell_type": "code",
   "execution_count": 17,
   "id": "53ab9210",
   "metadata": {},
   "outputs": [
    {
     "data": {
      "text/html": [
       "<div>\n",
       "<style scoped>\n",
       "    .dataframe tbody tr th:only-of-type {\n",
       "        vertical-align: middle;\n",
       "    }\n",
       "\n",
       "    .dataframe tbody tr th {\n",
       "        vertical-align: top;\n",
       "    }\n",
       "\n",
       "    .dataframe thead th {\n",
       "        text-align: right;\n",
       "    }\n",
       "</style>\n",
       "<table border=\"1\" class=\"dataframe\">\n",
       "  <thead>\n",
       "    <tr style=\"text-align: right;\">\n",
       "      <th></th>\n",
       "      <th>value</th>\n",
       "    </tr>\n",
       "    <tr>\n",
       "      <th>variables</th>\n",
       "      <th></th>\n",
       "    </tr>\n",
       "  </thead>\n",
       "  <tbody>\n",
       "    <tr>\n",
       "      <th>Unit quantity</th>\n",
       "      <td>18.138895</td>\n",
       "    </tr>\n",
       "    <tr>\n",
       "      <th>Weight</th>\n",
       "      <td>11.126610</td>\n",
       "    </tr>\n",
       "  </tbody>\n",
       "</table>\n",
       "</div>"
      ],
      "text/plain": [
       "                   value\n",
       "variables               \n",
       "Unit quantity  18.138895\n",
       "Weight         11.126610"
      ]
     },
     "execution_count": 17,
     "metadata": {},
     "output_type": "execute_result"
    }
   ],
   "source": [
    "df.groupby(\"variables\").agg(lambda x: skew(x, bias = False))"
   ]
  },
  {
   "cell_type": "markdown",
   "id": "02c80d0b",
   "metadata": {},
   "source": [
    "Question 4: Present the **correlation** between all the **numeric variables**. **Explain** the relationship between the variables using correlation values."
   ]
  },
  {
   "cell_type": "code",
   "execution_count": 18,
   "id": "b508b830",
   "metadata": {},
   "outputs": [
    {
     "data": {
      "text/html": [
       "<div>\n",
       "<style scoped>\n",
       "    .dataframe tbody tr th:only-of-type {\n",
       "        vertical-align: middle;\n",
       "    }\n",
       "\n",
       "    .dataframe tbody tr th {\n",
       "        vertical-align: top;\n",
       "    }\n",
       "\n",
       "    .dataframe thead th {\n",
       "        text-align: right;\n",
       "    }\n",
       "</style>\n",
       "<table border=\"1\" class=\"dataframe\">\n",
       "  <thead>\n",
       "    <tr style=\"text-align: right;\">\n",
       "      <th></th>\n",
       "      <th>Order ID</th>\n",
       "      <th>Order Date</th>\n",
       "      <th>Origin Port</th>\n",
       "      <th>Carrier</th>\n",
       "      <th>TPT</th>\n",
       "      <th>Service Level</th>\n",
       "      <th>Ship ahead day count</th>\n",
       "      <th>Ship Late Day count</th>\n",
       "      <th>Customer</th>\n",
       "      <th>Product ID</th>\n",
       "      <th>Plant Code</th>\n",
       "      <th>Destination Port</th>\n",
       "      <th>Unit quantity</th>\n",
       "      <th>Weight</th>\n",
       "    </tr>\n",
       "  </thead>\n",
       "  <tbody>\n",
       "    <tr>\n",
       "      <th>0</th>\n",
       "      <td>1.447296e+09</td>\n",
       "      <td>2013-05-26</td>\n",
       "      <td>PORT09</td>\n",
       "      <td>V44_3</td>\n",
       "      <td>1</td>\n",
       "      <td>CRF</td>\n",
       "      <td>3</td>\n",
       "      <td>0</td>\n",
       "      <td>V55555_53</td>\n",
       "      <td>1700106</td>\n",
       "      <td>PLANT16</td>\n",
       "      <td>PORT09</td>\n",
       "      <td>808</td>\n",
       "      <td>14.30</td>\n",
       "    </tr>\n",
       "    <tr>\n",
       "      <th>1</th>\n",
       "      <td>1.447158e+09</td>\n",
       "      <td>2013-05-26</td>\n",
       "      <td>PORT09</td>\n",
       "      <td>V44_3</td>\n",
       "      <td>1</td>\n",
       "      <td>CRF</td>\n",
       "      <td>3</td>\n",
       "      <td>0</td>\n",
       "      <td>V55555_53</td>\n",
       "      <td>1700106</td>\n",
       "      <td>PLANT16</td>\n",
       "      <td>PORT09</td>\n",
       "      <td>3188</td>\n",
       "      <td>87.94</td>\n",
       "    </tr>\n",
       "    <tr>\n",
       "      <th>2</th>\n",
       "      <td>1.447139e+09</td>\n",
       "      <td>2013-05-26</td>\n",
       "      <td>PORT09</td>\n",
       "      <td>V44_3</td>\n",
       "      <td>1</td>\n",
       "      <td>CRF</td>\n",
       "      <td>3</td>\n",
       "      <td>0</td>\n",
       "      <td>V55555_53</td>\n",
       "      <td>1700106</td>\n",
       "      <td>PLANT16</td>\n",
       "      <td>PORT09</td>\n",
       "      <td>2331</td>\n",
       "      <td>61.20</td>\n",
       "    </tr>\n",
       "    <tr>\n",
       "      <th>3</th>\n",
       "      <td>1.447364e+09</td>\n",
       "      <td>2013-05-26</td>\n",
       "      <td>PORT09</td>\n",
       "      <td>V44_3</td>\n",
       "      <td>1</td>\n",
       "      <td>CRF</td>\n",
       "      <td>3</td>\n",
       "      <td>0</td>\n",
       "      <td>V55555_53</td>\n",
       "      <td>1700106</td>\n",
       "      <td>PLANT16</td>\n",
       "      <td>PORT09</td>\n",
       "      <td>847</td>\n",
       "      <td>16.16</td>\n",
       "    </tr>\n",
       "    <tr>\n",
       "      <th>4</th>\n",
       "      <td>1.447364e+09</td>\n",
       "      <td>2013-05-26</td>\n",
       "      <td>PORT09</td>\n",
       "      <td>V44_3</td>\n",
       "      <td>1</td>\n",
       "      <td>CRF</td>\n",
       "      <td>3</td>\n",
       "      <td>0</td>\n",
       "      <td>V55555_53</td>\n",
       "      <td>1700106</td>\n",
       "      <td>PLANT16</td>\n",
       "      <td>PORT09</td>\n",
       "      <td>2163</td>\n",
       "      <td>52.34</td>\n",
       "    </tr>\n",
       "  </tbody>\n",
       "</table>\n",
       "</div>"
      ],
      "text/plain": [
       "       Order ID Order Date Origin Port Carrier  TPT Service Level  \\\n",
       "0  1.447296e+09 2013-05-26      PORT09   V44_3    1           CRF   \n",
       "1  1.447158e+09 2013-05-26      PORT09   V44_3    1           CRF   \n",
       "2  1.447139e+09 2013-05-26      PORT09   V44_3    1           CRF   \n",
       "3  1.447364e+09 2013-05-26      PORT09   V44_3    1           CRF   \n",
       "4  1.447364e+09 2013-05-26      PORT09   V44_3    1           CRF   \n",
       "\n",
       "   Ship ahead day count  Ship Late Day count   Customer  Product ID  \\\n",
       "0                     3                    0  V55555_53     1700106   \n",
       "1                     3                    0  V55555_53     1700106   \n",
       "2                     3                    0  V55555_53     1700106   \n",
       "3                     3                    0  V55555_53     1700106   \n",
       "4                     3                    0  V55555_53     1700106   \n",
       "\n",
       "  Plant Code Destination Port  Unit quantity  Weight  \n",
       "0    PLANT16           PORT09            808   14.30  \n",
       "1    PLANT16           PORT09           3188   87.94  \n",
       "2    PLANT16           PORT09           2331   61.20  \n",
       "3    PLANT16           PORT09            847   16.16  \n",
       "4    PLANT16           PORT09           2163   52.34  "
      ]
     },
     "execution_count": 18,
     "metadata": {},
     "output_type": "execute_result"
    }
   ],
   "source": [
    "OrderList_data.head()"
   ]
  },
  {
   "cell_type": "code",
   "execution_count": 19,
   "id": "696a377a",
   "metadata": {},
   "outputs": [
    {
     "data": {
      "text/html": [
       "<div>\n",
       "<style scoped>\n",
       "    .dataframe tbody tr th:only-of-type {\n",
       "        vertical-align: middle;\n",
       "    }\n",
       "\n",
       "    .dataframe tbody tr th {\n",
       "        vertical-align: top;\n",
       "    }\n",
       "\n",
       "    .dataframe thead th {\n",
       "        text-align: right;\n",
       "    }\n",
       "</style>\n",
       "<table border=\"1\" class=\"dataframe\">\n",
       "  <thead>\n",
       "    <tr style=\"text-align: right;\">\n",
       "      <th></th>\n",
       "      <th>Ship ahead day count</th>\n",
       "      <th>Ship Late Day count</th>\n",
       "      <th>Unit quantity</th>\n",
       "      <th>Weight</th>\n",
       "    </tr>\n",
       "  </thead>\n",
       "  <tbody>\n",
       "    <tr>\n",
       "      <th>Ship ahead day count</th>\n",
       "      <td>1.000000</td>\n",
       "      <td>-0.022371</td>\n",
       "      <td>-0.073901</td>\n",
       "      <td>0.018590</td>\n",
       "    </tr>\n",
       "    <tr>\n",
       "      <th>Ship Late Day count</th>\n",
       "      <td>-0.022371</td>\n",
       "      <td>1.000000</td>\n",
       "      <td>-0.015532</td>\n",
       "      <td>-0.017252</td>\n",
       "    </tr>\n",
       "    <tr>\n",
       "      <th>Unit quantity</th>\n",
       "      <td>-0.073901</td>\n",
       "      <td>-0.015532</td>\n",
       "      <td>1.000000</td>\n",
       "      <td>0.344520</td>\n",
       "    </tr>\n",
       "    <tr>\n",
       "      <th>Weight</th>\n",
       "      <td>0.018590</td>\n",
       "      <td>-0.017252</td>\n",
       "      <td>0.344520</td>\n",
       "      <td>1.000000</td>\n",
       "    </tr>\n",
       "  </tbody>\n",
       "</table>\n",
       "</div>"
      ],
      "text/plain": [
       "                      Ship ahead day count  Ship Late Day count  \\\n",
       "Ship ahead day count              1.000000            -0.022371   \n",
       "Ship Late Day count              -0.022371             1.000000   \n",
       "Unit quantity                    -0.073901            -0.015532   \n",
       "Weight                            0.018590            -0.017252   \n",
       "\n",
       "                      Unit quantity    Weight  \n",
       "Ship ahead day count      -0.073901  0.018590  \n",
       "Ship Late Day count       -0.015532 -0.017252  \n",
       "Unit quantity              1.000000  0.344520  \n",
       "Weight                     0.344520  1.000000  "
      ]
     },
     "execution_count": 19,
     "metadata": {},
     "output_type": "execute_result"
    }
   ],
   "source": [
    "corr_df = OrderList_data.drop(['Order ID', 'Order Date','Origin Port','Carrier','TPT','Service Level','Customer','Product ID','Plant Code','Destination Port'], axis =1)\n",
    "corr_df.corr()"
   ]
  },
  {
   "cell_type": "code",
   "execution_count": 20,
   "id": "538c0af5",
   "metadata": {},
   "outputs": [
    {
     "data": {
      "image/png": "[encoded data removed]",
      "text/plain": [
       "<Figure size 432x288 with 2 Axes>"
      ]
     },
     "metadata": {
      "needs_background": "light"
     },
     "output_type": "display_data"
    }
   ],
   "source": [
    "cmap = sns.diverging_palette(230, 20, as_cmap=True)\n",
    "sns.heatmap(\n",
    "        data=corr_df.corr(),  # our correlation matrix\n",
    "        linewidths=0.3,  # the width of lines separating the matrix squares\n",
    "        square=True,   # enforce 1:1 ratios among correlation cells\n",
    "        cmap=cmap,  # use the color map we defined above\n",
    "        vmax=1,  # define the max of our correlation scale\n",
    "        vmin=-1, # define the min of our correlation scale\n",
    "        center=0,  # The value at which the color map is centered about (white)\n",
    "        cbar_kws={\"shrink\": .75}  # shrink the scale a bit\n",
    "    )\n",
    "# adjust y-axis ticks for legibility\n",
    "plt.xticks(rotation=90)\n",
    "\n",
    "# show the heatmap\n",
    "plt.show()"
   ]
  },
  {
   "cell_type": "markdown",
   "id": "fae68917",
   "metadata": {},
   "source": [
    "Question 5: Calculate the measures of **central tendancy** and **measures of dispersion** for all the numerical variables. <br>\n",
    "1. Central tendancy: Mean, median, mode\n",
    "2. Measure of dispersion: Variance, Standard Deviation"
   ]
  },
  {
   "cell_type": "code",
   "execution_count": 21,
   "id": "1a2cd1b5",
   "metadata": {},
   "outputs": [
    {
     "data": {
      "text/plain": [
       "'Mean:'"
      ]
     },
     "metadata": {},
     "output_type": "display_data"
    },
    {
     "data": {
      "text/html": [
       "<div>\n",
       "<style scoped>\n",
       "    .dataframe tbody tr th:only-of-type {\n",
       "        vertical-align: middle;\n",
       "    }\n",
       "\n",
       "    .dataframe tbody tr th {\n",
       "        vertical-align: top;\n",
       "    }\n",
       "\n",
       "    .dataframe thead th {\n",
       "        text-align: right;\n",
       "    }\n",
       "</style>\n",
       "<table border=\"1\" class=\"dataframe\">\n",
       "  <thead>\n",
       "    <tr style=\"text-align: right;\">\n",
       "      <th></th>\n",
       "      <th>Ship ahead day count</th>\n",
       "      <th>Ship Late Day count</th>\n",
       "      <th>Unit quantity</th>\n",
       "      <th>Weight</th>\n",
       "    </tr>\n",
       "  </thead>\n",
       "  <tbody>\n",
       "    <tr>\n",
       "      <th>0</th>\n",
       "      <td>1.852306</td>\n",
       "      <td>0.039935</td>\n",
       "      <td>3202.747151</td>\n",
       "      <td>19.871688</td>\n",
       "    </tr>\n",
       "  </tbody>\n",
       "</table>\n",
       "</div>"
      ],
      "text/plain": [
       "   Ship ahead day count  Ship Late Day count  Unit quantity     Weight\n",
       "0              1.852306             0.039935    3202.747151  19.871688"
      ]
     },
     "metadata": {},
     "output_type": "display_data"
    },
    {
     "data": {
      "text/plain": [
       "'Median:'"
      ]
     },
     "metadata": {},
     "output_type": "display_data"
    },
    {
     "data": {
      "text/html": [
       "<div>\n",
       "<style scoped>\n",
       "    .dataframe tbody tr th:only-of-type {\n",
       "        vertical-align: middle;\n",
       "    }\n",
       "\n",
       "    .dataframe tbody tr th {\n",
       "        vertical-align: top;\n",
       "    }\n",
       "\n",
       "    .dataframe thead th {\n",
       "        text-align: right;\n",
       "    }\n",
       "</style>\n",
       "<table border=\"1\" class=\"dataframe\">\n",
       "  <thead>\n",
       "    <tr style=\"text-align: right;\">\n",
       "      <th></th>\n",
       "      <th>Ship ahead day count</th>\n",
       "      <th>Ship Late Day count</th>\n",
       "      <th>Unit quantity</th>\n",
       "      <th>Weight</th>\n",
       "    </tr>\n",
       "  </thead>\n",
       "  <tbody>\n",
       "    <tr>\n",
       "      <th>0</th>\n",
       "      <td>3.0</td>\n",
       "      <td>0.0</td>\n",
       "      <td>477.0</td>\n",
       "      <td>4.44</td>\n",
       "    </tr>\n",
       "  </tbody>\n",
       "</table>\n",
       "</div>"
      ],
      "text/plain": [
       "   Ship ahead day count  Ship Late Day count  Unit quantity  Weight\n",
       "0                   3.0                  0.0          477.0    4.44"
      ]
     },
     "metadata": {},
     "output_type": "display_data"
    },
    {
     "data": {
      "text/plain": [
       "'Mode:'"
      ]
     },
     "metadata": {},
     "output_type": "display_data"
    },
    {
     "data": {
      "text/html": [
       "<div>\n",
       "<style scoped>\n",
       "    .dataframe tbody tr th:only-of-type {\n",
       "        vertical-align: middle;\n",
       "    }\n",
       "\n",
       "    .dataframe tbody tr th {\n",
       "        vertical-align: top;\n",
       "    }\n",
       "\n",
       "    .dataframe thead th {\n",
       "        text-align: right;\n",
       "    }\n",
       "</style>\n",
       "<table border=\"1\" class=\"dataframe\">\n",
       "  <thead>\n",
       "    <tr style=\"text-align: right;\">\n",
       "      <th></th>\n",
       "      <th>Ship ahead day count</th>\n",
       "      <th>Ship Late Day count</th>\n",
       "      <th>Unit quantity</th>\n",
       "      <th>Weight</th>\n",
       "    </tr>\n",
       "  </thead>\n",
       "  <tbody>\n",
       "    <tr>\n",
       "      <th>0</th>\n",
       "      <td>0</td>\n",
       "      <td>0</td>\n",
       "      <td>334</td>\n",
       "      <td>4.404492</td>\n",
       "    </tr>\n",
       "  </tbody>\n",
       "</table>\n",
       "</div>"
      ],
      "text/plain": [
       "   Ship ahead day count  Ship Late Day count  Unit quantity    Weight\n",
       "0                     0                    0            334  4.404492"
      ]
     },
     "metadata": {},
     "output_type": "display_data"
    },
    {
     "data": {
      "text/plain": [
       "'Variance:'"
      ]
     },
     "metadata": {},
     "output_type": "display_data"
    },
    {
     "data": {
      "text/html": [
       "<div>\n",
       "<style scoped>\n",
       "    .dataframe tbody tr th:only-of-type {\n",
       "        vertical-align: middle;\n",
       "    }\n",
       "\n",
       "    .dataframe tbody tr th {\n",
       "        vertical-align: top;\n",
       "    }\n",
       "\n",
       "    .dataframe thead th {\n",
       "        text-align: right;\n",
       "    }\n",
       "</style>\n",
       "<table border=\"1\" class=\"dataframe\">\n",
       "  <thead>\n",
       "    <tr style=\"text-align: right;\">\n",
       "      <th></th>\n",
       "      <th>Ship ahead day count</th>\n",
       "      <th>Ship Late Day count</th>\n",
       "      <th>Unit quantity</th>\n",
       "      <th>Weight</th>\n",
       "    </tr>\n",
       "  </thead>\n",
       "  <tbody>\n",
       "    <tr>\n",
       "      <th>0</th>\n",
       "      <td>3.695245</td>\n",
       "      <td>0.10216</td>\n",
       "      <td>2.549011e+08</td>\n",
       "      <td>4431.440237</td>\n",
       "    </tr>\n",
       "  </tbody>\n",
       "</table>\n",
       "</div>"
      ],
      "text/plain": [
       "   Ship ahead day count  Ship Late Day count  Unit quantity       Weight\n",
       "0              3.695245              0.10216   2.549011e+08  4431.440237"
      ]
     },
     "metadata": {},
     "output_type": "display_data"
    },
    {
     "data": {
      "text/plain": [
       "'Standard Deviation:'"
      ]
     },
     "metadata": {},
     "output_type": "display_data"
    },
    {
     "data": {
      "text/html": [
       "<div>\n",
       "<style scoped>\n",
       "    .dataframe tbody tr th:only-of-type {\n",
       "        vertical-align: middle;\n",
       "    }\n",
       "\n",
       "    .dataframe tbody tr th {\n",
       "        vertical-align: top;\n",
       "    }\n",
       "\n",
       "    .dataframe thead th {\n",
       "        text-align: right;\n",
       "    }\n",
       "</style>\n",
       "<table border=\"1\" class=\"dataframe\">\n",
       "  <thead>\n",
       "    <tr style=\"text-align: right;\">\n",
       "      <th></th>\n",
       "      <th>Ship ahead day count</th>\n",
       "      <th>Ship Late Day count</th>\n",
       "      <th>Unit quantity</th>\n",
       "      <th>Weight</th>\n",
       "    </tr>\n",
       "  </thead>\n",
       "  <tbody>\n",
       "    <tr>\n",
       "      <th>0</th>\n",
       "      <td>1.922302</td>\n",
       "      <td>0.319625</td>\n",
       "      <td>15965.62226</td>\n",
       "      <td>66.569064</td>\n",
       "    </tr>\n",
       "  </tbody>\n",
       "</table>\n",
       "</div>"
      ],
      "text/plain": [
       "   Ship ahead day count  Ship Late Day count  Unit quantity     Weight\n",
       "0              1.922302             0.319625    15965.62226  66.569064"
      ]
     },
     "metadata": {},
     "output_type": "display_data"
    }
   ],
   "source": [
    "display(\"Mean:\",pd.DataFrame(corr_df.mean()).T)\n",
    "display(\"Median:\",pd.DataFrame(corr_df.median()).T)\n",
    "display(\"Mode:\",corr_df.mode())\n",
    "display(\"Variance:\",pd.DataFrame(corr_df.var()).T)\n",
    "display(\"Standard Deviation:\",pd.DataFrame(corr_df.std()).T)"
   ]
  },
  {
   "cell_type": "markdown",
   "id": "a794d680",
   "metadata": {},
   "source": [
    "Question 6: Consider the given data as entity 1. Design **two more related entities** (entity 2 and entity 3) and design one entity relationship diagram to relate all the three entities.  <br>\n",
    "1. create the variable , but no need the data values"
   ]
  },
  {
   "cell_type": "code",
   "execution_count": 22,
   "id": "8667c55c",
   "metadata": {},
   "outputs": [],
   "source": [
    "%load_ext sql"
   ]
  },
  {
   "cell_type": "code",
   "execution_count": 23,
   "id": "6b6d26fe",
   "metadata": {},
   "outputs": [],
   "source": [
    "%sql sqlite:///supply-chain.db"
   ]
  },
  {
   "cell_type": "code",
   "execution_count": 24,
   "id": "e41ab015",
   "metadata": {},
   "outputs": [],
   "source": [
    "import sqlite3\n",
    "import sqlalchemy as sqla\n",
    "\n",
    "conn = sqlite3.connect('supply-chain.db')\n",
    "c = conn.cursor()"
   ]
  },
  {
   "cell_type": "code",
   "execution_count": 25,
   "id": "07054362",
   "metadata": {},
   "outputs": [],
   "source": [
    "OrderList_data.columns = OrderList_data.columns.str.replace(' ', '')\n",
    "WhCosts_data.columns = WhCosts_data.columns.str.replace(' ', '')\n",
    "ProductsPerPlant_data.columns = ProductsPerPlant_data.columns.str.replace(' ', '')"
   ]
  },
  {
   "cell_type": "code",
   "execution_count": 26,
   "id": "418c7c08",
   "metadata": {},
   "outputs": [
    {
     "data": {
      "text/plain": [
       "<sqlite3.Cursor at 0x2daa129b810>"
      ]
     },
     "execution_count": 26,
     "metadata": {},
     "output_type": "execute_result"
    }
   ],
   "source": [
    "# orders table\n",
    "c = sqlite3.connect('supply-chain.db')\n",
    "c.execute(\n",
    "\n",
    "    \"\"\"\n",
    "CREATE TABLE orders (\n",
    "    OrderID TEXT,\n",
    "    OrderDate DATE,\n",
    "    OriginPort TEXT NOT NULL,\n",
    "    Carrier TEXT NOT NULL,\n",
    "    TPT INTEGER,\n",
    "    ServiceLevel TEXT NOT NULL,\n",
    "    ShipAheadDayCount INTEGER,\n",
    "    ShipLateDayCount INTEGER,\n",
    "    Customer TEXT NOT NULL,\n",
    "    ProductID TEXT,\n",
    "    PlantCode TEXT,\n",
    "    DestinationPort TEXT,\n",
    "    UnitQuantity INTEGER,\n",
    "    Weight REAL,\n",
    "    PRIMARY KEY(OrderID),\n",
    "    FOREIGN KEY(ProductID) REFERENCES products(ProductID),\n",
    "    FOREIGN KEY(PlantCode) REFERENCES costs(PlantCode)\n",
    "    );\n",
    "    \n",
    "    \"\"\"\n",
    "    )\n",
    "\n",
    "\n",
    "# costs table\n",
    "\n",
    "c.execute(\n",
    "\n",
    "    \"\"\"\n",
    "CREATE TABLE costs (\n",
    "    PlantCode TEXT,\n",
    "    CostPerUnit REAL,\n",
    "    PRIMARY KEY(PlantCode)\n",
    "    );\n",
    "    \n",
    "    \"\"\"\n",
    "    )"
   ]
  },
  {
   "cell_type": "code",
   "execution_count": 49,
   "id": "78023025",
   "metadata": {},
   "outputs": [
    {
     "data": {
      "text/plain": [
       "<sqlite3.Cursor at 0x2daa16ef340>"
      ]
     },
     "execution_count": 49,
     "metadata": {},
     "output_type": "execute_result"
    }
   ],
   "source": [
    "c = sqlite3.connect('supply-chain.db')\n",
    "# products table\n",
    "\n",
    "c.execute(\n",
    "\n",
    "    \"\"\"\n",
    "CREATE TABLE products (\n",
    "    ID TEXT,\n",
    "    ProductID TEXT,\n",
    "    PlantCode TEXT,\n",
    "    PRIMARY KEY(ID)\n",
    "    FOREIGN KEY(PlantCode) REFERENCES costs(PlantCode)\n",
    "    );\n",
    "    \n",
    "    \"\"\"\n",
    "    )\n"
   ]
  },
  {
   "cell_type": "code",
   "execution_count": 43,
   "id": "d8d728e2",
   "metadata": {},
   "outputs": [],
   "source": [
    "# transfers the data from each of the four data frames into the appropriate tables in the database\n",
    "OrderList_data.to_sql('orders', conn, if_exists='append', index=False)"
   ]
  },
  {
   "cell_type": "code",
   "execution_count": 44,
   "id": "edeb0d0d",
   "metadata": {},
   "outputs": [],
   "source": [
    "ProductsPerPlant_data['ID'] = ProductsPerPlant_data.index"
   ]
  },
  {
   "cell_type": "code",
   "execution_count": 45,
   "id": "147b2054",
   "metadata": {},
   "outputs": [],
   "source": [
    "ProductsPerPlant_data = ProductsPerPlant_data.reindex(columns=['ID', 'PlantCode', 'ProductID'])"
   ]
  },
  {
   "cell_type": "code",
   "execution_count": 52,
   "id": "ea6ea48f",
   "metadata": {},
   "outputs": [],
   "source": [
    "WhCosts_data.columns = ['PlantCode','CostPerUnit']"
   ]
  },
  {
   "cell_type": "code",
   "execution_count": 53,
   "id": "3e790a13",
   "metadata": {},
   "outputs": [],
   "source": [
    "WhCosts_data.to_sql('costs', conn, if_exists='append', index=False)"
   ]
  },
  {
   "cell_type": "code",
   "execution_count": 54,
   "id": "531bf313",
   "metadata": {},
   "outputs": [],
   "source": [
    "ProductsPerPlant_data.to_sql('products', conn, if_exists='append', index=False)"
   ]
  },
  {
   "cell_type": "code",
   "execution_count": 89,
   "id": "84d8afe8",
   "metadata": {},
   "outputs": [
    {
     "name": "stdout",
     "output_type": "stream",
     "text": [
      " * sqlite:///supply-chain.db\n",
      "Done.\n"
     ]
    },
    {
     "data": {
      "text/html": [
       "<table>\n",
       "    <tr>\n",
       "        <th>OrderID</th>\n",
       "        <th>OrderDate</th>\n",
       "        <th>OriginPort</th>\n",
       "        <th>Carrier</th>\n",
       "        <th>TPT</th>\n",
       "        <th>ServiceLevel</th>\n",
       "        <th>ShipAheadDayCount</th>\n",
       "        <th>ShipLateDayCount</th>\n",
       "        <th>Customer</th>\n",
       "        <th>ProductID</th>\n",
       "        <th>PlantCode</th>\n",
       "        <th>DestinationPort</th>\n",
       "        <th>UnitQuantity</th>\n",
       "        <th>Weight</th>\n",
       "    </tr>\n",
       "    <tr>\n",
       "        <td>1447296446.7</td>\n",
       "        <td>2013-05-26 00:00:00</td>\n",
       "        <td>PORT09</td>\n",
       "        <td>V44_3</td>\n",
       "        <td>1</td>\n",
       "        <td>CRF</td>\n",
       "        <td>3</td>\n",
       "        <td>0</td>\n",
       "        <td>V55555_53</td>\n",
       "        <td>1700106</td>\n",
       "        <td>PLANT16</td>\n",
       "        <td>PORT09</td>\n",
       "        <td>808</td>\n",
       "        <td>14.3</td>\n",
       "    </tr>\n",
       "    <tr>\n",
       "        <td>1447158014.7</td>\n",
       "        <td>2013-05-26 00:00:00</td>\n",
       "        <td>PORT09</td>\n",
       "        <td>V44_3</td>\n",
       "        <td>1</td>\n",
       "        <td>CRF</td>\n",
       "        <td>3</td>\n",
       "        <td>0</td>\n",
       "        <td>V55555_53</td>\n",
       "        <td>1700106</td>\n",
       "        <td>PLANT16</td>\n",
       "        <td>PORT09</td>\n",
       "        <td>3188</td>\n",
       "        <td>87.94</td>\n",
       "    </tr>\n",
       "    <tr>\n",
       "        <td>1447138898.7</td>\n",
       "        <td>2013-05-26 00:00:00</td>\n",
       "        <td>PORT09</td>\n",
       "        <td>V44_3</td>\n",
       "        <td>1</td>\n",
       "        <td>CRF</td>\n",
       "        <td>3</td>\n",
       "        <td>0</td>\n",
       "        <td>V55555_53</td>\n",
       "        <td>1700106</td>\n",
       "        <td>PLANT16</td>\n",
       "        <td>PORT09</td>\n",
       "        <td>2331</td>\n",
       "        <td>61.2</td>\n",
       "    </tr>\n",
       "</table>"
      ],
      "text/plain": [
       "[('1447296446.7', '2013-05-26 00:00:00', 'PORT09', 'V44_3', 1, 'CRF', 3, 0, 'V55555_53', '1700106', 'PLANT16', 'PORT09', 808, 14.3),\n",
       " ('1447158014.7', '2013-05-26 00:00:00', 'PORT09', 'V44_3', 1, 'CRF', 3, 0, 'V55555_53', '1700106', 'PLANT16', 'PORT09', 3188, 87.94),\n",
       " ('1447138898.7', '2013-05-26 00:00:00', 'PORT09', 'V44_3', 1, 'CRF', 3, 0, 'V55555_53', '1700106', 'PLANT16', 'PORT09', 2331, 61.2)]"
      ]
     },
     "execution_count": 89,
     "metadata": {},
     "output_type": "execute_result"
    }
   ],
   "source": [
    "%%sql \n",
    "SELECT * FROM orders LIMIT 3"
   ]
  },
  {
   "cell_type": "markdown",
   "id": "ff109f24",
   "metadata": {},
   "source": [
    "Question 7: Develop **3 problem statements** for the given dataset."
   ]
  },
  {
   "cell_type": "code",
   "execution_count": 86,
   "id": "6f8f7212",
   "metadata": {},
   "outputs": [],
   "source": [
    "### What are the top 3 products shipped among the period?\n",
    "### Which product has the highest cost and how much?\n",
    "### Which service level is most choosen as their shipping method?"
   ]
  },
  {
   "cell_type": "markdown",
   "id": "c0f08256",
   "metadata": {},
   "source": [
    "Question 8: Write **3 different SQL statements** to extract specific data from entity1, entity 2 and entity 3 to solve the problems designed in **Question 7**. (combine data from different tables) <br>\n",
    "1. what can be observe from the entity \n",
    "2. then how to resolve it by using sql?"
   ]
  },
  {
   "cell_type": "markdown",
   "id": "1326c63d",
   "metadata": {},
   "source": [
    "#### What are the top 3 products shipped among the period?"
   ]
  },
  {
   "cell_type": "code",
   "execution_count": 67,
   "id": "e7af8f75",
   "metadata": {},
   "outputs": [
    {
     "name": "stdout",
     "output_type": "stream",
     "text": [
      " * sqlite:///supply-chain.db\n",
      "Done.\n"
     ]
    },
    {
     "data": {
      "text/html": [
       "<table>\n",
       "    <tr>\n",
       "        <th>ProductID</th>\n",
       "        <th>PlantCode</th>\n",
       "        <th>COUNT(ProductID)</th>\n",
       "    </tr>\n",
       "    <tr>\n",
       "        <td>1689547</td>\n",
       "        <td>PLANT03</td>\n",
       "        <td>192</td>\n",
       "    </tr>\n",
       "    <tr>\n",
       "        <td>1677878</td>\n",
       "        <td>PLANT03</td>\n",
       "        <td>140</td>\n",
       "    </tr>\n",
       "    <tr>\n",
       "        <td>1689548</td>\n",
       "        <td>PLANT03</td>\n",
       "        <td>133</td>\n",
       "    </tr>\n",
       "</table>"
      ],
      "text/plain": [
       "[('1689547', 'PLANT03', 192),\n",
       " ('1677878', 'PLANT03', 140),\n",
       " ('1689548', 'PLANT03', 133)]"
      ]
     },
     "execution_count": 67,
     "metadata": {},
     "output_type": "execute_result"
    }
   ],
   "source": [
    "%%sql\n",
    "SELECT ProductID, PlantCode, COUNT(ProductID) FROM orders\n",
    "GROUP BY ProductID\n",
    "ORDER BY COUNT(ProductID) DESC\n",
    "LIMIT 3;"
   ]
  },
  {
   "cell_type": "markdown",
   "id": "9ccd7c04",
   "metadata": {},
   "source": [
    "#### Which product has the highest cost and how much?"
   ]
  },
  {
   "cell_type": "code",
   "execution_count": 79,
   "id": "d662c086",
   "metadata": {},
   "outputs": [
    {
     "name": "stdout",
     "output_type": "stream",
     "text": [
      " * sqlite:///supply-chain.db\n",
      "Done.\n"
     ]
    },
    {
     "data": {
      "text/html": [
       "<table>\n",
       "    <tr>\n",
       "        <th>ProductID</th>\n",
       "        <th>PlantCode</th>\n",
       "        <th>UnitQuantity</th>\n",
       "        <th>CostPerUnit</th>\n",
       "        <th>Total Price</th>\n",
       "    </tr>\n",
       "    <tr>\n",
       "        <td>1695862</td>\n",
       "        <td>PLANT09</td>\n",
       "        <td>14293</td>\n",
       "        <td>0.46507109738293506</td>\n",
       "        <td>6647.26</td>\n",
       "    </tr>\n",
       "</table>"
      ],
      "text/plain": [
       "[('1695862', 'PLANT09', 14293, 0.46507109738293506, 6647.26)]"
      ]
     },
     "execution_count": 79,
     "metadata": {},
     "output_type": "execute_result"
    }
   ],
   "source": [
    "%%sql\n",
    "SELECT orders.ProductID, orders.PlantCode, orders.UnitQuantity,  costs.CostPerUnit, ROUND((orders.UnitQuantity * costs.CostPerUnit),2) as [Total Price] FROM orders\n",
    "LEFT JOIN costs \n",
    "ON orders.PlantCode = costs.PlantCode\n",
    "GROUP BY orders.PlantCode\n",
    "ORDER BY [Total Price] DESC\n",
    "LIMIT 1;"
   ]
  },
  {
   "cell_type": "markdown",
   "id": "8552710a",
   "metadata": {},
   "source": [
    "#### Which service level is most choosen as their shipping method?"
   ]
  },
  {
   "cell_type": "code",
   "execution_count": 82,
   "id": "ba96e0f2",
   "metadata": {},
   "outputs": [
    {
     "name": "stdout",
     "output_type": "stream",
     "text": [
      " * sqlite:///supply-chain.db\n",
      "Done.\n"
     ]
    },
    {
     "data": {
      "text/html": [
       "<table>\n",
       "    <tr>\n",
       "        <th>ServiceLevel</th>\n",
       "        <th>COUNT(ServiceLevel)</th>\n",
       "    </tr>\n",
       "    <tr>\n",
       "        <td>DTP</td>\n",
       "        <td>6218</td>\n",
       "    </tr>\n",
       "    <tr>\n",
       "        <td>DTD</td>\n",
       "        <td>2143</td>\n",
       "    </tr>\n",
       "    <tr>\n",
       "        <td>CRF</td>\n",
       "        <td>854</td>\n",
       "    </tr>\n",
       "</table>"
      ],
      "text/plain": [
       "[('DTP', 6218), ('DTD', 2143), ('CRF', 854)]"
      ]
     },
     "execution_count": 82,
     "metadata": {},
     "output_type": "execute_result"
    }
   ],
   "source": [
    "%%sql\n",
    "SELECT ServiceLevel, COUNT(ServiceLevel) FROM orders\n",
    "GROUP BY ServiceLevel\n",
    "ORDER BY COUNT(ServiceLevel) DESC;"
   ]
  }
 ],
 "metadata": {
  "kernelspec": {
   "display_name": "Python 3 (ipykernel)",
   "language": "python",
   "name": "python3"
  },
  "language_info": {
   "codemirror_mode": {
    "name": "ipython",
    "version": 3
   },
   "file_extension": ".py",
   "mimetype": "text/x-python",
   "name": "python",
   "nbconvert_exporter": "python",
   "pygments_lexer": "ipython3",
   "version": "3.9.7"
  },
  "varInspector": {
   "cols": {
    "lenName": 16,
    "lenType": 16,
    "lenVar": 40
   },
   "kernels_config": {
    "python": {
     "delete_cmd_postfix": "",
     "delete_cmd_prefix": "del ",
     "library": "var_list.py",
     "varRefreshCmd": "print(var_dic_list())"
    },
    "r": {
     "delete_cmd_postfix": ") ",
     "delete_cmd_prefix": "rm(",
     "library": "var_list.r",
     "varRefreshCmd": "cat(var_dic_list()) "
    }
   },
   "oldHeight": 807.844,
   "position": {
    "height": "829.844px",
    "left": "1524px",
    "right": "20px",
    "top": "113px",
    "width": "376px"
   },
   "types_to_exclude": [
    "module",
    "function",
    "builtin_function_or_method",
    "instance",
    "_Feature"
   ],
   "varInspector_section_display": "block",
   "window_display": true
  }
 },
 "nbformat": 4,
 "nbformat_minor": 5
}
