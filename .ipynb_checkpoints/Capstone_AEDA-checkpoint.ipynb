{
 "cells": [
  {
   "cell_type": "markdown",
   "id": "d2f3b150",
   "metadata": {},
   "source": [
    "# CAPSTONE\n"
   ]
  },
  {
   "cell_type": "markdown",
   "id": "c333b77d",
   "metadata": {},
   "source": [
    "#### Instructions:\n",
    "Write python codes to answer all the 7 questions. \n",
    "Save the python notebook as (.ipynb) file.\n",
    "Prepare power point slides to present the output of every question.\n",
    "One group needs to submit only one folder including python notebook and power point slides and upload to the submission folder. "
   ]
  },
  {
   "cell_type": "markdown",
   "id": "bd6af62f",
   "metadata": {},
   "source": [
    "#### Perform data cleaning/ pre-processing before starting the data analysis. "
   ]
  },
  {
   "cell_type": "markdown",
   "id": "b33563b9",
   "metadata": {},
   "source": [
    "Question 1: Load the given data and **describe** the dataset using variable type, data type, total column, total rows and other parameters. "
   ]
  },
  {
   "cell_type": "markdown",
   "id": "b04afe6a",
   "metadata": {},
   "source": [
    "Question 2: Describe the **categorical variables** available in the dataset.  **Visualise** the results based on your creativity. "
   ]
  },
  {
   "cell_type": "markdown",
   "id": "85e60903",
   "metadata": {},
   "source": [
    "Question 3: Present the **distribution** of each variable in the dataset. **Interpret** the results."
   ]
  },
  {
   "cell_type": "markdown",
   "id": "02c80d0b",
   "metadata": {},
   "source": [
    "Question 4: Present the **correlation** between all the **numeric variables**. Explain the relationship between the variables using correlation values."
   ]
  },
  {
   "cell_type": "markdown",
   "id": "fae68917",
   "metadata": {},
   "source": [
    "Question 5: Calculate the measures of central tendancy and measures of dispersion for all the numerical variables. "
   ]
  },
  {
   "cell_type": "markdown",
   "id": "a794d680",
   "metadata": {},
   "source": [
    "Question 6: Consider the given data as entity 1. Design two more related entities (entity 2 and entity 3) and design one entity relationship diagram to relate all the three entities. "
   ]
  },
  {
   "cell_type": "markdown",
   "id": "ff109f24",
   "metadata": {},
   "source": [
    "Question 7: Develop three problem statements for the given dataset."
   ]
  },
  {
   "cell_type": "markdown",
   "id": "c0f08256",
   "metadata": {},
   "source": [
    "Question 8: Write 3 different SQL statements to extract specific data from entity1, entity 2 and entity 3 to solve the problems designed in Question 7. (combine data from different tables)"
   ]
  },
  {
   "cell_type": "code",
   "execution_count": null,
   "id": "0917509b",
   "metadata": {},
   "outputs": [],
   "source": []
  }
 ],
 "metadata": {
  "kernelspec": {
   "display_name": "Python 3 (ipykernel)",
   "language": "python",
   "name": "python3"
  },
  "language_info": {
   "codemirror_mode": {
    "name": "ipython",
    "version": 3
   },
   "file_extension": ".py",
   "mimetype": "text/x-python",
   "name": "python",
   "nbconvert_exporter": "python",
   "pygments_lexer": "ipython3",
   "version": "3.9.7"
  },
  "varInspector": {
   "cols": {
    "lenName": 16,
    "lenType": 16,
    "lenVar": 40
   },
   "kernels_config": {
    "python": {
     "delete_cmd_postfix": "",
     "delete_cmd_prefix": "del ",
     "library": "var_list.py",
     "varRefreshCmd": "print(var_dic_list())"
    },
    "r": {
     "delete_cmd_postfix": ") ",
     "delete_cmd_prefix": "rm(",
     "library": "var_list.r",
     "varRefreshCmd": "cat(var_dic_list()) "
    }
   },
   "types_to_exclude": [
    "module",
    "function",
    "builtin_function_or_method",
    "instance",
    "_Feature"
   ],
   "window_display": true
  }
 },
 "nbformat": 4,
 "nbformat_minor": 5
}
