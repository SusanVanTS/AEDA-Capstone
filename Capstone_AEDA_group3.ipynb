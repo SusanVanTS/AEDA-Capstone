{
 "cells": [
  {
   "cell_type": "markdown",
   "id": "d2f3b150",
   "metadata": {},
   "source": [
    "# CAPSTONE\n"
   ]
  },
  {
   "cell_type": "markdown",
   "id": "c333b77d",
   "metadata": {},
   "source": [
    "#### Instructions:\n",
    "Write python codes to answer all the 7 questions. \n",
    "Save the python notebook as (.ipynb) file.\n",
    "Prepare power point slides to present the output of every question.\n",
    "One group needs to submit only one folder including python notebook and power point slides and upload to the submission folder. "
   ]
  },
  {
   "cell_type": "code",
   "execution_count": 4,
   "id": "23e0a510",
   "metadata": {},
   "outputs": [],
   "source": [
    "import seaborn as sns\n",
    "import matplotlib.pyplot as plt\n",
    "import pandas as pd\n",
    "import numpy as np\n",
    "\n",
    "from statistics import mode\n",
    "from scipy.special import binom\n",
    "from scipy.stats import norm, poisson, uniform, skew, kurtosis, iqr \n",
    "\n",
    "import glob\n",
    "import os\n",
    "import json"
   ]
  },
  {
   "cell_type": "markdown",
   "id": "bd6af62f",
   "metadata": {},
   "source": [
    "#### Perform data cleaning/ pre-processing before starting the data analysis. "
   ]
  },
  {
   "cell_type": "markdown",
   "id": "b33563b9",
   "metadata": {},
   "source": [
    "Question 1: Load the given data and describe the dataset using variable type, data type, total column, total rows and other parameters. "
   ]
  },
  {
   "cell_type": "code",
   "execution_count": 4,
   "id": "9824e0e3",
   "metadata": {},
   "outputs": [
    {
     "data": {
      "text/html": [
       "<div>\n",
       "<style scoped>\n",
       "    .dataframe tbody tr th:only-of-type {\n",
       "        vertical-align: middle;\n",
       "    }\n",
       "\n",
       "    .dataframe tbody tr th {\n",
       "        vertical-align: top;\n",
       "    }\n",
       "\n",
       "    .dataframe thead th {\n",
       "        text-align: right;\n",
       "    }\n",
       "</style>\n",
       "<table border=\"1\" class=\"dataframe\">\n",
       "  <thead>\n",
       "    <tr style=\"text-align: right;\">\n",
       "      <th></th>\n",
       "      <th>Order ID</th>\n",
       "      <th>Order Date</th>\n",
       "      <th>Origin Port</th>\n",
       "      <th>Carrier</th>\n",
       "      <th>TPT</th>\n",
       "      <th>Service Level</th>\n",
       "      <th>Ship ahead day count</th>\n",
       "      <th>Ship Late Day count</th>\n",
       "      <th>Customer</th>\n",
       "      <th>Product ID</th>\n",
       "      <th>Plant Code</th>\n",
       "      <th>Destination Port</th>\n",
       "      <th>Unit quantity</th>\n",
       "      <th>Weight</th>\n",
       "    </tr>\n",
       "  </thead>\n",
       "  <tbody>\n",
       "    <tr>\n",
       "      <th>0</th>\n",
       "      <td>1.447296e+09</td>\n",
       "      <td>2013-05-26</td>\n",
       "      <td>PORT09</td>\n",
       "      <td>V44_3</td>\n",
       "      <td>1</td>\n",
       "      <td>CRF</td>\n",
       "      <td>3</td>\n",
       "      <td>0</td>\n",
       "      <td>V55555_53</td>\n",
       "      <td>1700106</td>\n",
       "      <td>PLANT16</td>\n",
       "      <td>PORT09</td>\n",
       "      <td>808</td>\n",
       "      <td>14.30</td>\n",
       "    </tr>\n",
       "    <tr>\n",
       "      <th>1</th>\n",
       "      <td>1.447158e+09</td>\n",
       "      <td>2013-05-26</td>\n",
       "      <td>PORT09</td>\n",
       "      <td>V44_3</td>\n",
       "      <td>1</td>\n",
       "      <td>CRF</td>\n",
       "      <td>3</td>\n",
       "      <td>0</td>\n",
       "      <td>V55555_53</td>\n",
       "      <td>1700106</td>\n",
       "      <td>PLANT16</td>\n",
       "      <td>PORT09</td>\n",
       "      <td>3188</td>\n",
       "      <td>87.94</td>\n",
       "    </tr>\n",
       "    <tr>\n",
       "      <th>2</th>\n",
       "      <td>1.447139e+09</td>\n",
       "      <td>2013-05-26</td>\n",
       "      <td>PORT09</td>\n",
       "      <td>V44_3</td>\n",
       "      <td>1</td>\n",
       "      <td>CRF</td>\n",
       "      <td>3</td>\n",
       "      <td>0</td>\n",
       "      <td>V55555_53</td>\n",
       "      <td>1700106</td>\n",
       "      <td>PLANT16</td>\n",
       "      <td>PORT09</td>\n",
       "      <td>2331</td>\n",
       "      <td>61.20</td>\n",
       "    </tr>\n",
       "    <tr>\n",
       "      <th>3</th>\n",
       "      <td>1.447364e+09</td>\n",
       "      <td>2013-05-26</td>\n",
       "      <td>PORT09</td>\n",
       "      <td>V44_3</td>\n",
       "      <td>1</td>\n",
       "      <td>CRF</td>\n",
       "      <td>3</td>\n",
       "      <td>0</td>\n",
       "      <td>V55555_53</td>\n",
       "      <td>1700106</td>\n",
       "      <td>PLANT16</td>\n",
       "      <td>PORT09</td>\n",
       "      <td>847</td>\n",
       "      <td>16.16</td>\n",
       "    </tr>\n",
       "    <tr>\n",
       "      <th>4</th>\n",
       "      <td>1.447364e+09</td>\n",
       "      <td>2013-05-26</td>\n",
       "      <td>PORT09</td>\n",
       "      <td>V44_3</td>\n",
       "      <td>1</td>\n",
       "      <td>CRF</td>\n",
       "      <td>3</td>\n",
       "      <td>0</td>\n",
       "      <td>V55555_53</td>\n",
       "      <td>1700106</td>\n",
       "      <td>PLANT16</td>\n",
       "      <td>PORT09</td>\n",
       "      <td>2163</td>\n",
       "      <td>52.34</td>\n",
       "    </tr>\n",
       "  </tbody>\n",
       "</table>\n",
       "</div>"
      ],
      "text/plain": [
       "       Order ID Order Date Origin Port Carrier  TPT Service Level  \\\n",
       "0  1.447296e+09 2013-05-26      PORT09   V44_3    1           CRF   \n",
       "1  1.447158e+09 2013-05-26      PORT09   V44_3    1           CRF   \n",
       "2  1.447139e+09 2013-05-26      PORT09   V44_3    1           CRF   \n",
       "3  1.447364e+09 2013-05-26      PORT09   V44_3    1           CRF   \n",
       "4  1.447364e+09 2013-05-26      PORT09   V44_3    1           CRF   \n",
       "\n",
       "   Ship ahead day count  Ship Late Day count   Customer  Product ID  \\\n",
       "0                     3                    0  V55555_53     1700106   \n",
       "1                     3                    0  V55555_53     1700106   \n",
       "2                     3                    0  V55555_53     1700106   \n",
       "3                     3                    0  V55555_53     1700106   \n",
       "4                     3                    0  V55555_53     1700106   \n",
       "\n",
       "  Plant Code Destination Port  Unit quantity  Weight  \n",
       "0    PLANT16           PORT09            808   14.30  \n",
       "1    PLANT16           PORT09           3188   87.94  \n",
       "2    PLANT16           PORT09           2331   61.20  \n",
       "3    PLANT16           PORT09            847   16.16  \n",
       "4    PLANT16           PORT09           2163   52.34  "
      ]
     },
     "execution_count": 4,
     "metadata": {},
     "output_type": "execute_result"
    }
   ],
   "source": [
    "sc=pd.read_excel('Supply chain logisitcs problem.xlsx')\n",
    "sc.head()"
   ]
  },
  {
   "cell_type": "code",
   "execution_count": 5,
   "id": "73d758ae",
   "metadata": {},
   "outputs": [
    {
     "name": "stdout",
     "output_type": "stream",
     "text": [
      "<class 'pandas.core.frame.DataFrame'>\n",
      "RangeIndex: 9215 entries, 0 to 9214\n",
      "Data columns (total 14 columns):\n",
      " #   Column                Non-Null Count  Dtype         \n",
      "---  ------                --------------  -----         \n",
      " 0   Order ID              9215 non-null   float64       \n",
      " 1   Order Date            9215 non-null   datetime64[ns]\n",
      " 2   Origin Port           9215 non-null   object        \n",
      " 3   Carrier               9215 non-null   object        \n",
      " 4   TPT                   9215 non-null   int64         \n",
      " 5   Service Level         9215 non-null   object        \n",
      " 6   Ship ahead day count  9215 non-null   int64         \n",
      " 7   Ship Late Day count   9215 non-null   int64         \n",
      " 8   Customer              9215 non-null   object        \n",
      " 9   Product ID            9215 non-null   int64         \n",
      " 10  Plant Code            9215 non-null   object        \n",
      " 11  Destination Port      9215 non-null   object        \n",
      " 12  Unit quantity         9215 non-null   int64         \n",
      " 13  Weight                9215 non-null   float64       \n",
      "dtypes: datetime64[ns](1), float64(2), int64(5), object(6)\n",
      "memory usage: 1008.0+ KB\n"
     ]
    }
   ],
   "source": [
    "sc.info()"
   ]
  },
  {
   "cell_type": "code",
   "execution_count": 6,
   "id": "95c5d303",
   "metadata": {},
   "outputs": [
    {
     "name": "stderr",
     "output_type": "stream",
     "text": [
      "C:\\Users\\susan\\AppData\\Local\\Temp/ipykernel_7864/2554247964.py:1: FutureWarning: Treating datetime data as categorical rather than numeric in `.describe` is deprecated and will be removed in a future version of pandas. Specify `datetime_is_numeric=True` to silence this warning and adopt the future behavior now.\n",
      "  sc.describe(include='all')\n"
     ]
    },
    {
     "data": {
      "text/html": [
       "<div>\n",
       "<style scoped>\n",
       "    .dataframe tbody tr th:only-of-type {\n",
       "        vertical-align: middle;\n",
       "    }\n",
       "\n",
       "    .dataframe tbody tr th {\n",
       "        vertical-align: top;\n",
       "    }\n",
       "\n",
       "    .dataframe thead th {\n",
       "        text-align: right;\n",
       "    }\n",
       "</style>\n",
       "<table border=\"1\" class=\"dataframe\">\n",
       "  <thead>\n",
       "    <tr style=\"text-align: right;\">\n",
       "      <th></th>\n",
       "      <th>Order ID</th>\n",
       "      <th>Order Date</th>\n",
       "      <th>Origin Port</th>\n",
       "      <th>Carrier</th>\n",
       "      <th>TPT</th>\n",
       "      <th>Service Level</th>\n",
       "      <th>Ship ahead day count</th>\n",
       "      <th>Ship Late Day count</th>\n",
       "      <th>Customer</th>\n",
       "      <th>Product ID</th>\n",
       "      <th>Plant Code</th>\n",
       "      <th>Destination Port</th>\n",
       "      <th>Unit quantity</th>\n",
       "      <th>Weight</th>\n",
       "    </tr>\n",
       "  </thead>\n",
       "  <tbody>\n",
       "    <tr>\n",
       "      <th>count</th>\n",
       "      <td>9.215000e+03</td>\n",
       "      <td>9215</td>\n",
       "      <td>9215</td>\n",
       "      <td>9215</td>\n",
       "      <td>9215.000000</td>\n",
       "      <td>9215</td>\n",
       "      <td>9215.000000</td>\n",
       "      <td>9215.000000</td>\n",
       "      <td>9215</td>\n",
       "      <td>9.215000e+03</td>\n",
       "      <td>9215</td>\n",
       "      <td>9215</td>\n",
       "      <td>9215.000000</td>\n",
       "      <td>9215.000000</td>\n",
       "    </tr>\n",
       "    <tr>\n",
       "      <th>unique</th>\n",
       "      <td>NaN</td>\n",
       "      <td>1</td>\n",
       "      <td>3</td>\n",
       "      <td>3</td>\n",
       "      <td>NaN</td>\n",
       "      <td>3</td>\n",
       "      <td>NaN</td>\n",
       "      <td>NaN</td>\n",
       "      <td>46</td>\n",
       "      <td>NaN</td>\n",
       "      <td>7</td>\n",
       "      <td>1</td>\n",
       "      <td>NaN</td>\n",
       "      <td>NaN</td>\n",
       "    </tr>\n",
       "    <tr>\n",
       "      <th>top</th>\n",
       "      <td>NaN</td>\n",
       "      <td>2013-05-26 00:00:00</td>\n",
       "      <td>PORT04</td>\n",
       "      <td>V444_0</td>\n",
       "      <td>NaN</td>\n",
       "      <td>DTP</td>\n",
       "      <td>NaN</td>\n",
       "      <td>NaN</td>\n",
       "      <td>V55555555555555_8</td>\n",
       "      <td>NaN</td>\n",
       "      <td>PLANT03</td>\n",
       "      <td>PORT09</td>\n",
       "      <td>NaN</td>\n",
       "      <td>NaN</td>\n",
       "    </tr>\n",
       "    <tr>\n",
       "      <th>freq</th>\n",
       "      <td>NaN</td>\n",
       "      <td>9215</td>\n",
       "      <td>9041</td>\n",
       "      <td>6264</td>\n",
       "      <td>NaN</td>\n",
       "      <td>6218</td>\n",
       "      <td>NaN</td>\n",
       "      <td>NaN</td>\n",
       "      <td>976</td>\n",
       "      <td>NaN</td>\n",
       "      <td>8541</td>\n",
       "      <td>9215</td>\n",
       "      <td>NaN</td>\n",
       "      <td>NaN</td>\n",
       "    </tr>\n",
       "    <tr>\n",
       "      <th>first</th>\n",
       "      <td>NaN</td>\n",
       "      <td>2013-05-26 00:00:00</td>\n",
       "      <td>NaN</td>\n",
       "      <td>NaN</td>\n",
       "      <td>NaN</td>\n",
       "      <td>NaN</td>\n",
       "      <td>NaN</td>\n",
       "      <td>NaN</td>\n",
       "      <td>NaN</td>\n",
       "      <td>NaN</td>\n",
       "      <td>NaN</td>\n",
       "      <td>NaN</td>\n",
       "      <td>NaN</td>\n",
       "      <td>NaN</td>\n",
       "    </tr>\n",
       "    <tr>\n",
       "      <th>last</th>\n",
       "      <td>NaN</td>\n",
       "      <td>2013-05-26 00:00:00</td>\n",
       "      <td>NaN</td>\n",
       "      <td>NaN</td>\n",
       "      <td>NaN</td>\n",
       "      <td>NaN</td>\n",
       "      <td>NaN</td>\n",
       "      <td>NaN</td>\n",
       "      <td>NaN</td>\n",
       "      <td>NaN</td>\n",
       "      <td>NaN</td>\n",
       "      <td>NaN</td>\n",
       "      <td>NaN</td>\n",
       "      <td>NaN</td>\n",
       "    </tr>\n",
       "    <tr>\n",
       "      <th>mean</th>\n",
       "      <td>1.447274e+09</td>\n",
       "      <td>NaN</td>\n",
       "      <td>NaN</td>\n",
       "      <td>NaN</td>\n",
       "      <td>1.717743</td>\n",
       "      <td>NaN</td>\n",
       "      <td>1.852306</td>\n",
       "      <td>0.039935</td>\n",
       "      <td>NaN</td>\n",
       "      <td>1.680536e+06</td>\n",
       "      <td>NaN</td>\n",
       "      <td>NaN</td>\n",
       "      <td>3202.747151</td>\n",
       "      <td>19.871688</td>\n",
       "    </tr>\n",
       "    <tr>\n",
       "      <th>std</th>\n",
       "      <td>8.381629e+04</td>\n",
       "      <td>NaN</td>\n",
       "      <td>NaN</td>\n",
       "      <td>NaN</td>\n",
       "      <td>0.630500</td>\n",
       "      <td>NaN</td>\n",
       "      <td>1.922302</td>\n",
       "      <td>0.319625</td>\n",
       "      <td>NaN</td>\n",
       "      <td>1.526593e+04</td>\n",
       "      <td>NaN</td>\n",
       "      <td>NaN</td>\n",
       "      <td>15965.622260</td>\n",
       "      <td>66.569064</td>\n",
       "    </tr>\n",
       "    <tr>\n",
       "      <th>min</th>\n",
       "      <td>1.447126e+09</td>\n",
       "      <td>NaN</td>\n",
       "      <td>NaN</td>\n",
       "      <td>NaN</td>\n",
       "      <td>0.000000</td>\n",
       "      <td>NaN</td>\n",
       "      <td>0.000000</td>\n",
       "      <td>0.000000</td>\n",
       "      <td>NaN</td>\n",
       "      <td>1.613321e+06</td>\n",
       "      <td>NaN</td>\n",
       "      <td>NaN</td>\n",
       "      <td>235.000000</td>\n",
       "      <td>0.000000</td>\n",
       "    </tr>\n",
       "    <tr>\n",
       "      <th>25%</th>\n",
       "      <td>1.447197e+09</td>\n",
       "      <td>NaN</td>\n",
       "      <td>NaN</td>\n",
       "      <td>NaN</td>\n",
       "      <td>1.000000</td>\n",
       "      <td>NaN</td>\n",
       "      <td>0.000000</td>\n",
       "      <td>0.000000</td>\n",
       "      <td>NaN</td>\n",
       "      <td>1.669702e+06</td>\n",
       "      <td>NaN</td>\n",
       "      <td>NaN</td>\n",
       "      <td>330.000000</td>\n",
       "      <td>1.407430</td>\n",
       "    </tr>\n",
       "    <tr>\n",
       "      <th>50%</th>\n",
       "      <td>1.447276e+09</td>\n",
       "      <td>NaN</td>\n",
       "      <td>NaN</td>\n",
       "      <td>NaN</td>\n",
       "      <td>2.000000</td>\n",
       "      <td>NaN</td>\n",
       "      <td>3.000000</td>\n",
       "      <td>0.000000</td>\n",
       "      <td>NaN</td>\n",
       "      <td>1.683636e+06</td>\n",
       "      <td>NaN</td>\n",
       "      <td>NaN</td>\n",
       "      <td>477.000000</td>\n",
       "      <td>4.440000</td>\n",
       "    </tr>\n",
       "    <tr>\n",
       "      <th>75%</th>\n",
       "      <td>1.447346e+09</td>\n",
       "      <td>NaN</td>\n",
       "      <td>NaN</td>\n",
       "      <td>NaN</td>\n",
       "      <td>2.000000</td>\n",
       "      <td>NaN</td>\n",
       "      <td>3.000000</td>\n",
       "      <td>0.000000</td>\n",
       "      <td>NaN</td>\n",
       "      <td>1.689554e+06</td>\n",
       "      <td>NaN</td>\n",
       "      <td>NaN</td>\n",
       "      <td>1275.500000</td>\n",
       "      <td>13.325673</td>\n",
       "    </tr>\n",
       "    <tr>\n",
       "      <th>max</th>\n",
       "      <td>1.447425e+09</td>\n",
       "      <td>NaN</td>\n",
       "      <td>NaN</td>\n",
       "      <td>NaN</td>\n",
       "      <td>4.000000</td>\n",
       "      <td>NaN</td>\n",
       "      <td>6.000000</td>\n",
       "      <td>6.000000</td>\n",
       "      <td>NaN</td>\n",
       "      <td>1.702654e+06</td>\n",
       "      <td>NaN</td>\n",
       "      <td>NaN</td>\n",
       "      <td>561847.000000</td>\n",
       "      <td>2338.405126</td>\n",
       "    </tr>\n",
       "  </tbody>\n",
       "</table>\n",
       "</div>"
      ],
      "text/plain": [
       "            Order ID           Order Date Origin Port Carrier          TPT  \\\n",
       "count   9.215000e+03                 9215        9215    9215  9215.000000   \n",
       "unique           NaN                    1           3       3          NaN   \n",
       "top              NaN  2013-05-26 00:00:00      PORT04  V444_0          NaN   \n",
       "freq             NaN                 9215        9041    6264          NaN   \n",
       "first            NaN  2013-05-26 00:00:00         NaN     NaN          NaN   \n",
       "last             NaN  2013-05-26 00:00:00         NaN     NaN          NaN   \n",
       "mean    1.447274e+09                  NaN         NaN     NaN     1.717743   \n",
       "std     8.381629e+04                  NaN         NaN     NaN     0.630500   \n",
       "min     1.447126e+09                  NaN         NaN     NaN     0.000000   \n",
       "25%     1.447197e+09                  NaN         NaN     NaN     1.000000   \n",
       "50%     1.447276e+09                  NaN         NaN     NaN     2.000000   \n",
       "75%     1.447346e+09                  NaN         NaN     NaN     2.000000   \n",
       "max     1.447425e+09                  NaN         NaN     NaN     4.000000   \n",
       "\n",
       "       Service Level  Ship ahead day count  Ship Late Day count  \\\n",
       "count           9215           9215.000000          9215.000000   \n",
       "unique             3                   NaN                  NaN   \n",
       "top              DTP                   NaN                  NaN   \n",
       "freq            6218                   NaN                  NaN   \n",
       "first            NaN                   NaN                  NaN   \n",
       "last             NaN                   NaN                  NaN   \n",
       "mean             NaN              1.852306             0.039935   \n",
       "std              NaN              1.922302             0.319625   \n",
       "min              NaN              0.000000             0.000000   \n",
       "25%              NaN              0.000000             0.000000   \n",
       "50%              NaN              3.000000             0.000000   \n",
       "75%              NaN              3.000000             0.000000   \n",
       "max              NaN              6.000000             6.000000   \n",
       "\n",
       "                 Customer    Product ID Plant Code Destination Port  \\\n",
       "count                9215  9.215000e+03       9215             9215   \n",
       "unique                 46           NaN          7                1   \n",
       "top     V55555555555555_8           NaN    PLANT03           PORT09   \n",
       "freq                  976           NaN       8541             9215   \n",
       "first                 NaN           NaN        NaN              NaN   \n",
       "last                  NaN           NaN        NaN              NaN   \n",
       "mean                  NaN  1.680536e+06        NaN              NaN   \n",
       "std                   NaN  1.526593e+04        NaN              NaN   \n",
       "min                   NaN  1.613321e+06        NaN              NaN   \n",
       "25%                   NaN  1.669702e+06        NaN              NaN   \n",
       "50%                   NaN  1.683636e+06        NaN              NaN   \n",
       "75%                   NaN  1.689554e+06        NaN              NaN   \n",
       "max                   NaN  1.702654e+06        NaN              NaN   \n",
       "\n",
       "        Unit quantity       Weight  \n",
       "count     9215.000000  9215.000000  \n",
       "unique            NaN          NaN  \n",
       "top               NaN          NaN  \n",
       "freq              NaN          NaN  \n",
       "first             NaN          NaN  \n",
       "last              NaN          NaN  \n",
       "mean      3202.747151    19.871688  \n",
       "std      15965.622260    66.569064  \n",
       "min        235.000000     0.000000  \n",
       "25%        330.000000     1.407430  \n",
       "50%        477.000000     4.440000  \n",
       "75%       1275.500000    13.325673  \n",
       "max     561847.000000  2338.405126  "
      ]
     },
     "execution_count": 6,
     "metadata": {},
     "output_type": "execute_result"
    }
   ],
   "source": [
    "sc.describe(include='all')"
   ]
  },
  {
   "cell_type": "code",
   "execution_count": 7,
   "id": "225c8b54",
   "metadata": {},
   "outputs": [
    {
     "data": {
      "text/plain": [
       "Order ID                0\n",
       "Order Date              0\n",
       "Origin Port             0\n",
       "Carrier                 0\n",
       "TPT                     0\n",
       "Service Level           0\n",
       "Ship ahead day count    0\n",
       "Ship Late Day count     0\n",
       "Customer                0\n",
       "Product ID              0\n",
       "Plant Code              0\n",
       "Destination Port        0\n",
       "Unit quantity           0\n",
       "Weight                  0\n",
       "dtype: int64"
      ]
     },
     "execution_count": 7,
     "metadata": {},
     "output_type": "execute_result"
    }
   ],
   "source": [
    "sc.isnull().sum()"
   ]
  },
  {
   "cell_type": "markdown",
   "id": "b04afe6a",
   "metadata": {},
   "source": [
    "Question 2: Describe the categorical variables available in the dataset.  Visualise the results based on your creativity. "
   ]
  },
  {
   "cell_type": "code",
   "execution_count": 8,
   "id": "eab02216",
   "metadata": {},
   "outputs": [
    {
     "data": {
      "text/plain": [
       "Index(['Order ID', 'Order Date', 'Origin Port', 'Carrier', 'TPT',\n",
       "       'Service Level', 'Ship ahead day count', 'Ship Late Day count',\n",
       "       'Customer', 'Product ID', 'Plant Code', 'Destination Port',\n",
       "       'Unit quantity', 'Weight'],\n",
       "      dtype='object')"
      ]
     },
     "execution_count": 8,
     "metadata": {},
     "output_type": "execute_result"
    }
   ],
   "source": [
    "sc.columns"
   ]
  },
  {
   "cell_type": "code",
   "execution_count": 10,
   "id": "6227ddea",
   "metadata": {},
   "outputs": [],
   "source": [
    "sc3=pd.read_excel('./data/Supply chain logisitcs problem.xlsx',sheet_name='OrderList',usecols='D,H,K,M,N')\n"
   ]
  },
  {
   "cell_type": "code",
   "execution_count": 11,
   "id": "9f2b8fe1",
   "metadata": {},
   "outputs": [
    {
     "data": {
      "text/plain": [
       "Index(['Carrier', 'Ship Late Day count', 'Plant Code', 'Unit quantity',\n",
       "       'Weight'],\n",
       "      dtype='object')"
      ]
     },
     "execution_count": 11,
     "metadata": {},
     "output_type": "execute_result"
    }
   ],
   "source": [
    "sc3.columns"
   ]
  },
  {
   "cell_type": "code",
   "execution_count": 12,
   "id": "1071f587",
   "metadata": {},
   "outputs": [
    {
     "data": {
      "text/html": [
       "<div>\n",
       "<style scoped>\n",
       "    .dataframe tbody tr th:only-of-type {\n",
       "        vertical-align: middle;\n",
       "    }\n",
       "\n",
       "    .dataframe tbody tr th {\n",
       "        vertical-align: top;\n",
       "    }\n",
       "\n",
       "    .dataframe thead th {\n",
       "        text-align: right;\n",
       "    }\n",
       "</style>\n",
       "<table border=\"1\" class=\"dataframe\">\n",
       "  <thead>\n",
       "    <tr style=\"text-align: right;\">\n",
       "      <th></th>\n",
       "      <th>Carrier</th>\n",
       "      <th>Ship Late Day count</th>\n",
       "      <th>Plant Code</th>\n",
       "      <th>Unit quantity</th>\n",
       "      <th>Weight</th>\n",
       "    </tr>\n",
       "  </thead>\n",
       "  <tbody>\n",
       "    <tr>\n",
       "      <th>0</th>\n",
       "      <td>V44_3</td>\n",
       "      <td>0</td>\n",
       "      <td>PLANT16</td>\n",
       "      <td>808</td>\n",
       "      <td>14.30</td>\n",
       "    </tr>\n",
       "    <tr>\n",
       "      <th>1</th>\n",
       "      <td>V44_3</td>\n",
       "      <td>0</td>\n",
       "      <td>PLANT16</td>\n",
       "      <td>3188</td>\n",
       "      <td>87.94</td>\n",
       "    </tr>\n",
       "    <tr>\n",
       "      <th>2</th>\n",
       "      <td>V44_3</td>\n",
       "      <td>0</td>\n",
       "      <td>PLANT16</td>\n",
       "      <td>2331</td>\n",
       "      <td>61.20</td>\n",
       "    </tr>\n",
       "    <tr>\n",
       "      <th>3</th>\n",
       "      <td>V44_3</td>\n",
       "      <td>0</td>\n",
       "      <td>PLANT16</td>\n",
       "      <td>847</td>\n",
       "      <td>16.16</td>\n",
       "    </tr>\n",
       "    <tr>\n",
       "      <th>4</th>\n",
       "      <td>V44_3</td>\n",
       "      <td>0</td>\n",
       "      <td>PLANT16</td>\n",
       "      <td>2163</td>\n",
       "      <td>52.34</td>\n",
       "    </tr>\n",
       "  </tbody>\n",
       "</table>\n",
       "</div>"
      ],
      "text/plain": [
       "  Carrier  Ship Late Day count Plant Code  Unit quantity  Weight\n",
       "0   V44_3                    0    PLANT16            808   14.30\n",
       "1   V44_3                    0    PLANT16           3188   87.94\n",
       "2   V44_3                    0    PLANT16           2331   61.20\n",
       "3   V44_3                    0    PLANT16            847   16.16\n",
       "4   V44_3                    0    PLANT16           2163   52.34"
      ]
     },
     "execution_count": 12,
     "metadata": {},
     "output_type": "execute_result"
    }
   ],
   "source": [
    "sc3.head()"
   ]
  },
  {
   "cell_type": "code",
   "execution_count": 13,
   "id": "63485284",
   "metadata": {},
   "outputs": [
    {
     "data": {
      "text/plain": [
       "array(['PLANT16', 'PLANT03', 'PLANT08', 'PLANT04', 'PLANT12', 'PLANT09',\n",
       "       'PLANT13'], dtype=object)"
      ]
     },
     "execution_count": 13,
     "metadata": {},
     "output_type": "execute_result"
    }
   ],
   "source": [
    "sc3[\"Plant Code\"].unique()"
   ]
  },
  {
   "cell_type": "code",
   "execution_count": 14,
   "id": "82584cf3",
   "metadata": {},
   "outputs": [
    {
     "data": {
      "text/plain": [
       "V444_0    6264\n",
       "V444_1    2097\n",
       "V44_3      854\n",
       "Name: Carrier, dtype: int64"
      ]
     },
     "execution_count": 14,
     "metadata": {},
     "output_type": "execute_result"
    }
   ],
   "source": [
    "sc3.Carrier.value_counts()"
   ]
  },
  {
   "cell_type": "code",
   "execution_count": 15,
   "id": "ed540654",
   "metadata": {},
   "outputs": [
    {
     "name": "stdout",
     "output_type": "stream",
     "text": [
      "<class 'pandas.core.frame.DataFrame'>\n",
      "RangeIndex: 9215 entries, 0 to 9214\n",
      "Data columns (total 5 columns):\n",
      " #   Column               Non-Null Count  Dtype  \n",
      "---  ------               --------------  -----  \n",
      " 0   Carrier              9215 non-null   object \n",
      " 1   Ship Late Day count  9215 non-null   int64  \n",
      " 2   Plant Code           9215 non-null   object \n",
      " 3   Unit quantity        9215 non-null   int64  \n",
      " 4   Weight               9215 non-null   float64\n",
      "dtypes: float64(1), int64(2), object(2)\n",
      "memory usage: 360.1+ KB\n"
     ]
    }
   ],
   "source": [
    "sc3.info()"
   ]
  },
  {
   "cell_type": "code",
   "execution_count": 16,
   "id": "c4fa8939",
   "metadata": {},
   "outputs": [
    {
     "data": {
      "text/html": [
       "<div>\n",
       "<style scoped>\n",
       "    .dataframe tbody tr th:only-of-type {\n",
       "        vertical-align: middle;\n",
       "    }\n",
       "\n",
       "    .dataframe tbody tr th {\n",
       "        vertical-align: top;\n",
       "    }\n",
       "\n",
       "    .dataframe thead th {\n",
       "        text-align: right;\n",
       "    }\n",
       "</style>\n",
       "<table border=\"1\" class=\"dataframe\">\n",
       "  <thead>\n",
       "    <tr style=\"text-align: right;\">\n",
       "      <th></th>\n",
       "      <th>Carrier</th>\n",
       "      <th>Ship Late Day count</th>\n",
       "      <th>Plant Code</th>\n",
       "      <th>Unit quantity</th>\n",
       "      <th>Weight</th>\n",
       "    </tr>\n",
       "  </thead>\n",
       "  <tbody>\n",
       "    <tr>\n",
       "      <th>count</th>\n",
       "      <td>9215</td>\n",
       "      <td>9215.000000</td>\n",
       "      <td>9215</td>\n",
       "      <td>9215.000000</td>\n",
       "      <td>9215.000000</td>\n",
       "    </tr>\n",
       "    <tr>\n",
       "      <th>unique</th>\n",
       "      <td>3</td>\n",
       "      <td>NaN</td>\n",
       "      <td>7</td>\n",
       "      <td>NaN</td>\n",
       "      <td>NaN</td>\n",
       "    </tr>\n",
       "    <tr>\n",
       "      <th>top</th>\n",
       "      <td>V444_0</td>\n",
       "      <td>NaN</td>\n",
       "      <td>PLANT03</td>\n",
       "      <td>NaN</td>\n",
       "      <td>NaN</td>\n",
       "    </tr>\n",
       "    <tr>\n",
       "      <th>freq</th>\n",
       "      <td>6264</td>\n",
       "      <td>NaN</td>\n",
       "      <td>8541</td>\n",
       "      <td>NaN</td>\n",
       "      <td>NaN</td>\n",
       "    </tr>\n",
       "    <tr>\n",
       "      <th>mean</th>\n",
       "      <td>NaN</td>\n",
       "      <td>0.039935</td>\n",
       "      <td>NaN</td>\n",
       "      <td>3202.747151</td>\n",
       "      <td>19.871688</td>\n",
       "    </tr>\n",
       "    <tr>\n",
       "      <th>std</th>\n",
       "      <td>NaN</td>\n",
       "      <td>0.319625</td>\n",
       "      <td>NaN</td>\n",
       "      <td>15965.622260</td>\n",
       "      <td>66.569064</td>\n",
       "    </tr>\n",
       "    <tr>\n",
       "      <th>min</th>\n",
       "      <td>NaN</td>\n",
       "      <td>0.000000</td>\n",
       "      <td>NaN</td>\n",
       "      <td>235.000000</td>\n",
       "      <td>0.000000</td>\n",
       "    </tr>\n",
       "    <tr>\n",
       "      <th>25%</th>\n",
       "      <td>NaN</td>\n",
       "      <td>0.000000</td>\n",
       "      <td>NaN</td>\n",
       "      <td>330.000000</td>\n",
       "      <td>1.407430</td>\n",
       "    </tr>\n",
       "    <tr>\n",
       "      <th>50%</th>\n",
       "      <td>NaN</td>\n",
       "      <td>0.000000</td>\n",
       "      <td>NaN</td>\n",
       "      <td>477.000000</td>\n",
       "      <td>4.440000</td>\n",
       "    </tr>\n",
       "    <tr>\n",
       "      <th>75%</th>\n",
       "      <td>NaN</td>\n",
       "      <td>0.000000</td>\n",
       "      <td>NaN</td>\n",
       "      <td>1275.500000</td>\n",
       "      <td>13.325673</td>\n",
       "    </tr>\n",
       "    <tr>\n",
       "      <th>max</th>\n",
       "      <td>NaN</td>\n",
       "      <td>6.000000</td>\n",
       "      <td>NaN</td>\n",
       "      <td>561847.000000</td>\n",
       "      <td>2338.405126</td>\n",
       "    </tr>\n",
       "  </tbody>\n",
       "</table>\n",
       "</div>"
      ],
      "text/plain": [
       "       Carrier  Ship Late Day count Plant Code  Unit quantity       Weight\n",
       "count     9215          9215.000000       9215    9215.000000  9215.000000\n",
       "unique       3                  NaN          7            NaN          NaN\n",
       "top     V444_0                  NaN    PLANT03            NaN          NaN\n",
       "freq      6264                  NaN       8541            NaN          NaN\n",
       "mean       NaN             0.039935        NaN    3202.747151    19.871688\n",
       "std        NaN             0.319625        NaN   15965.622260    66.569064\n",
       "min        NaN             0.000000        NaN     235.000000     0.000000\n",
       "25%        NaN             0.000000        NaN     330.000000     1.407430\n",
       "50%        NaN             0.000000        NaN     477.000000     4.440000\n",
       "75%        NaN             0.000000        NaN    1275.500000    13.325673\n",
       "max        NaN             6.000000        NaN  561847.000000  2338.405126"
      ]
     },
     "execution_count": 16,
     "metadata": {},
     "output_type": "execute_result"
    }
   ],
   "source": [
    "sc3.describe(include=\"all\")"
   ]
  },
  {
   "cell_type": "code",
   "execution_count": 17,
   "id": "59917610",
   "metadata": {},
   "outputs": [
    {
     "data": {
      "text/html": [
       "<div>\n",
       "<style scoped>\n",
       "    .dataframe tbody tr th:only-of-type {\n",
       "        vertical-align: middle;\n",
       "    }\n",
       "\n",
       "    .dataframe tbody tr th {\n",
       "        vertical-align: top;\n",
       "    }\n",
       "\n",
       "    .dataframe thead th {\n",
       "        text-align: right;\n",
       "    }\n",
       "</style>\n",
       "<table border=\"1\" class=\"dataframe\">\n",
       "  <thead>\n",
       "    <tr style=\"text-align: right;\">\n",
       "      <th>Carrier</th>\n",
       "      <th>V444_0</th>\n",
       "      <th>V444_1</th>\n",
       "      <th>V44_3</th>\n",
       "    </tr>\n",
       "    <tr>\n",
       "      <th>Plant Code</th>\n",
       "      <th></th>\n",
       "      <th></th>\n",
       "      <th></th>\n",
       "    </tr>\n",
       "  </thead>\n",
       "  <tbody>\n",
       "    <tr>\n",
       "      <th>PLANT03</th>\n",
       "      <td>5844</td>\n",
       "      <td>1984</td>\n",
       "      <td>713</td>\n",
       "    </tr>\n",
       "    <tr>\n",
       "      <th>PLANT04</th>\n",
       "      <td>0</td>\n",
       "      <td>0</td>\n",
       "      <td>1</td>\n",
       "    </tr>\n",
       "    <tr>\n",
       "      <th>PLANT08</th>\n",
       "      <td>101</td>\n",
       "      <td>0</td>\n",
       "      <td>1</td>\n",
       "    </tr>\n",
       "    <tr>\n",
       "      <th>PLANT09</th>\n",
       "      <td>12</td>\n",
       "      <td>0</td>\n",
       "      <td>0</td>\n",
       "    </tr>\n",
       "    <tr>\n",
       "      <th>PLANT12</th>\n",
       "      <td>187</td>\n",
       "      <td>113</td>\n",
       "      <td>0</td>\n",
       "    </tr>\n",
       "    <tr>\n",
       "      <th>PLANT13</th>\n",
       "      <td>86</td>\n",
       "      <td>0</td>\n",
       "      <td>0</td>\n",
       "    </tr>\n",
       "    <tr>\n",
       "      <th>PLANT16</th>\n",
       "      <td>34</td>\n",
       "      <td>0</td>\n",
       "      <td>139</td>\n",
       "    </tr>\n",
       "  </tbody>\n",
       "</table>\n",
       "</div>"
      ],
      "text/plain": [
       "Carrier     V444_0  V444_1  V44_3\n",
       "Plant Code                       \n",
       "PLANT03       5844    1984    713\n",
       "PLANT04          0       0      1\n",
       "PLANT08        101       0      1\n",
       "PLANT09         12       0      0\n",
       "PLANT12        187     113      0\n",
       "PLANT13         86       0      0\n",
       "PLANT16         34       0    139"
      ]
     },
     "execution_count": 17,
     "metadata": {},
     "output_type": "execute_result"
    }
   ],
   "source": [
    "# crosstab in values\n",
    "sc3_tab = pd.crosstab(sc3.loc[:, \"Plant Code\"], sc3.loc[:, \"Carrier\"])\n",
    "sc3_tab"
   ]
  },
  {
   "cell_type": "code",
   "execution_count": 18,
   "id": "504a2b98",
   "metadata": {},
   "outputs": [
    {
     "data": {
      "text/html": [
       "<div>\n",
       "<style scoped>\n",
       "    .dataframe tbody tr th:only-of-type {\n",
       "        vertical-align: middle;\n",
       "    }\n",
       "\n",
       "    .dataframe tbody tr th {\n",
       "        vertical-align: top;\n",
       "    }\n",
       "\n",
       "    .dataframe thead th {\n",
       "        text-align: right;\n",
       "    }\n",
       "</style>\n",
       "<table border=\"1\" class=\"dataframe\">\n",
       "  <thead>\n",
       "    <tr style=\"text-align: right;\">\n",
       "      <th>Carrier</th>\n",
       "      <th>V444_0</th>\n",
       "      <th>V444_1</th>\n",
       "      <th>V44_3</th>\n",
       "    </tr>\n",
       "    <tr>\n",
       "      <th>Plant Code</th>\n",
       "      <th></th>\n",
       "      <th></th>\n",
       "      <th></th>\n",
       "    </tr>\n",
       "  </thead>\n",
       "  <tbody>\n",
       "    <tr>\n",
       "      <th>PLANT03</th>\n",
       "      <td>93.30</td>\n",
       "      <td>94.61</td>\n",
       "      <td>83.49</td>\n",
       "    </tr>\n",
       "    <tr>\n",
       "      <th>PLANT04</th>\n",
       "      <td>0.00</td>\n",
       "      <td>0.00</td>\n",
       "      <td>0.12</td>\n",
       "    </tr>\n",
       "    <tr>\n",
       "      <th>PLANT08</th>\n",
       "      <td>1.61</td>\n",
       "      <td>0.00</td>\n",
       "      <td>0.12</td>\n",
       "    </tr>\n",
       "    <tr>\n",
       "      <th>PLANT09</th>\n",
       "      <td>0.19</td>\n",
       "      <td>0.00</td>\n",
       "      <td>0.00</td>\n",
       "    </tr>\n",
       "    <tr>\n",
       "      <th>PLANT12</th>\n",
       "      <td>2.99</td>\n",
       "      <td>5.39</td>\n",
       "      <td>0.00</td>\n",
       "    </tr>\n",
       "    <tr>\n",
       "      <th>PLANT13</th>\n",
       "      <td>1.37</td>\n",
       "      <td>0.00</td>\n",
       "      <td>0.00</td>\n",
       "    </tr>\n",
       "    <tr>\n",
       "      <th>PLANT16</th>\n",
       "      <td>0.54</td>\n",
       "      <td>0.00</td>\n",
       "      <td>16.28</td>\n",
       "    </tr>\n",
       "  </tbody>\n",
       "</table>\n",
       "</div>"
      ],
      "text/plain": [
       "Carrier     V444_0  V444_1  V44_3\n",
       "Plant Code                       \n",
       "PLANT03      93.30   94.61  83.49\n",
       "PLANT04       0.00    0.00   0.12\n",
       "PLANT08       1.61    0.00   0.12\n",
       "PLANT09       0.19    0.00   0.00\n",
       "PLANT12       2.99    5.39   0.00\n",
       "PLANT13       1.37    0.00   0.00\n",
       "PLANT16       0.54    0.00  16.28"
      ]
     },
     "execution_count": 18,
     "metadata": {},
     "output_type": "execute_result"
    }
   ],
   "source": [
    "# crosstab in percentages\n",
    "sc3_tab = (pd.crosstab(sc3.loc[:, \"Plant Code\"], sc3.loc[:, \"Carrier\"],normalize='columns')*100).round(2)\n",
    "sc3_tab"
   ]
  },
  {
   "cell_type": "code",
   "execution_count": 19,
   "id": "c24f9898",
   "metadata": {},
   "outputs": [
    {
     "data": {
      "image/png": "[encoded data removed]",
      "text/plain": [
       "<Figure size 720x360 with 1 Axes>"
      ]
     },
     "metadata": {
      "needs_background": "light"
     },
     "output_type": "display_data"
    }
   ],
   "source": [
    "sc3_tab.plot.bar(title = \"Number of Delivery Order for Each Carrier across Plant Code\",figsize=(10,5))\n",
    "plt.xticks(rotation=0)\n",
    "plt.ylabel('Count')\n",
    "plt.show()\n",
    "# Plant03 has the highest number of orders\n",
    "# Most of the order in Plant03 are from V444_0 Carrier\n",
    "# Plant03 is the busiest plant"
   ]
  },
  {
   "cell_type": "code",
   "execution_count": 20,
   "id": "26667286",
   "metadata": {},
   "outputs": [
    {
     "data": {
      "image/png": "[encoded data removed]",
      "text/plain": [
       "<Figure size 432x288 with 1 Axes>"
      ]
     },
     "metadata": {
      "needs_background": "light"
     },
     "output_type": "display_data"
    }
   ],
   "source": [
    "# overall number of order for each Carrier\n",
    "(sc3.Carrier.value_counts(normalize=True)*100).plot.bar(title='Bar Chart of Carrier', color=['#3b6b76','#aaccd4','#cce0e5'])\n",
    "plt.xticks(rotation=0)\n",
    "plt.ylabel('Percentage (%)')\n",
    "plt.show()"
   ]
  },
  {
   "cell_type": "markdown",
   "id": "85e60903",
   "metadata": {},
   "source": [
    "Question 3: Present the distribution of each variable in the dataset. Interpret the results."
   ]
  },
  {
   "cell_type": "markdown",
   "id": "026baf0c",
   "metadata": {},
   "source": [
    "#### Sampling"
   ]
  },
  {
   "cell_type": "code",
   "execution_count": 21,
   "id": "c53a04eb",
   "metadata": {},
   "outputs": [],
   "source": [
    "# stage 1: simple random sample of clusters\n",
    "np.random.seed(42)\n",
    "clusters = np.random.choice(sc3['Ship Late Day count'].unique(), size = 2)\n",
    "sc3_stage1 = sc3[sc3['Ship Late Day count'].isin(clusters)]\n",
    "f=1000/sc3_stage1.shape[0]"
   ]
  },
  {
   "cell_type": "code",
   "execution_count": 22,
   "id": "f7e8fec4",
   "metadata": {},
   "outputs": [],
   "source": [
    "# stage 2: stratified sampling \n",
    "sc3_stage2 = sc3_stage1.groupby('Carrier').\\\n",
    "apply(lambda x: x.sample(frac = f,random_state = 42, replace=True))"
   ]
  },
  {
   "cell_type": "code",
   "execution_count": 23,
   "id": "70a23da2",
   "metadata": {},
   "outputs": [
    {
     "data": {
      "text/html": [
       "<div>\n",
       "<style scoped>\n",
       "    .dataframe tbody tr th:only-of-type {\n",
       "        vertical-align: middle;\n",
       "    }\n",
       "\n",
       "    .dataframe tbody tr th {\n",
       "        vertical-align: top;\n",
       "    }\n",
       "\n",
       "    .dataframe thead th {\n",
       "        text-align: right;\n",
       "    }\n",
       "</style>\n",
       "<table border=\"1\" class=\"dataframe\">\n",
       "  <thead>\n",
       "    <tr style=\"text-align: right;\">\n",
       "      <th></th>\n",
       "      <th>Carrier</th>\n",
       "      <th>Ship Late Day count</th>\n",
       "      <th>Plant Code</th>\n",
       "      <th>Unit quantity</th>\n",
       "      <th>Weight</th>\n",
       "    </tr>\n",
       "  </thead>\n",
       "  <tbody>\n",
       "    <tr>\n",
       "      <th>count</th>\n",
       "      <td>1000</td>\n",
       "      <td>1000.000000</td>\n",
       "      <td>1000</td>\n",
       "      <td>1000.000000</td>\n",
       "      <td>1000.000000</td>\n",
       "    </tr>\n",
       "    <tr>\n",
       "      <th>unique</th>\n",
       "      <td>2</td>\n",
       "      <td>NaN</td>\n",
       "      <td>2</td>\n",
       "      <td>NaN</td>\n",
       "      <td>NaN</td>\n",
       "    </tr>\n",
       "    <tr>\n",
       "      <th>top</th>\n",
       "      <td>V444_0</td>\n",
       "      <td>NaN</td>\n",
       "      <td>PLANT03</td>\n",
       "      <td>NaN</td>\n",
       "      <td>NaN</td>\n",
       "    </tr>\n",
       "    <tr>\n",
       "      <th>freq</th>\n",
       "      <td>952</td>\n",
       "      <td>NaN</td>\n",
       "      <td>924</td>\n",
       "      <td>NaN</td>\n",
       "      <td>NaN</td>\n",
       "    </tr>\n",
       "    <tr>\n",
       "      <th>mean</th>\n",
       "      <td>NaN</td>\n",
       "      <td>1.894000</td>\n",
       "      <td>NaN</td>\n",
       "      <td>1108.049000</td>\n",
       "      <td>9.201208</td>\n",
       "    </tr>\n",
       "    <tr>\n",
       "      <th>std</th>\n",
       "      <td>NaN</td>\n",
       "      <td>0.994864</td>\n",
       "      <td>NaN</td>\n",
       "      <td>1064.476663</td>\n",
       "      <td>17.822615</td>\n",
       "    </tr>\n",
       "    <tr>\n",
       "      <th>min</th>\n",
       "      <td>NaN</td>\n",
       "      <td>1.000000</td>\n",
       "      <td>NaN</td>\n",
       "      <td>241.000000</td>\n",
       "      <td>0.010567</td>\n",
       "    </tr>\n",
       "    <tr>\n",
       "      <th>25%</th>\n",
       "      <td>NaN</td>\n",
       "      <td>1.000000</td>\n",
       "      <td>NaN</td>\n",
       "      <td>450.000000</td>\n",
       "      <td>1.841177</td>\n",
       "    </tr>\n",
       "    <tr>\n",
       "      <th>50%</th>\n",
       "      <td>NaN</td>\n",
       "      <td>1.000000</td>\n",
       "      <td>NaN</td>\n",
       "      <td>671.000000</td>\n",
       "      <td>4.596727</td>\n",
       "    </tr>\n",
       "    <tr>\n",
       "      <th>75%</th>\n",
       "      <td>NaN</td>\n",
       "      <td>3.000000</td>\n",
       "      <td>NaN</td>\n",
       "      <td>1203.500000</td>\n",
       "      <td>8.115614</td>\n",
       "    </tr>\n",
       "    <tr>\n",
       "      <th>max</th>\n",
       "      <td>NaN</td>\n",
       "      <td>3.000000</td>\n",
       "      <td>NaN</td>\n",
       "      <td>6306.000000</td>\n",
       "      <td>118.030755</td>\n",
       "    </tr>\n",
       "  </tbody>\n",
       "</table>\n",
       "</div>"
      ],
      "text/plain": [
       "       Carrier  Ship Late Day count Plant Code  Unit quantity       Weight\n",
       "count     1000          1000.000000       1000    1000.000000  1000.000000\n",
       "unique       2                  NaN          2            NaN          NaN\n",
       "top     V444_0                  NaN    PLANT03            NaN          NaN\n",
       "freq       952                  NaN        924            NaN          NaN\n",
       "mean       NaN             1.894000        NaN    1108.049000     9.201208\n",
       "std        NaN             0.994864        NaN    1064.476663    17.822615\n",
       "min        NaN             1.000000        NaN     241.000000     0.010567\n",
       "25%        NaN             1.000000        NaN     450.000000     1.841177\n",
       "50%        NaN             1.000000        NaN     671.000000     4.596727\n",
       "75%        NaN             3.000000        NaN    1203.500000     8.115614\n",
       "max        NaN             3.000000        NaN    6306.000000   118.030755"
      ]
     },
     "execution_count": 23,
     "metadata": {},
     "output_type": "execute_result"
    }
   ],
   "source": [
    "sc3_stage2.describe(include='all')"
   ]
  },
  {
   "cell_type": "code",
   "execution_count": 24,
   "id": "a1d113ee",
   "metadata": {},
   "outputs": [
    {
     "name": "stdout",
     "output_type": "stream",
     "text": [
      "<class 'pandas.core.frame.DataFrame'>\n",
      "MultiIndex: 1000 entries, ('V444_0', 4979) to ('V444_1', 7947)\n",
      "Data columns (total 5 columns):\n",
      " #   Column               Non-Null Count  Dtype  \n",
      "---  ------               --------------  -----  \n",
      " 0   Carrier              1000 non-null   object \n",
      " 1   Ship Late Day count  1000 non-null   int64  \n",
      " 2   Plant Code           1000 non-null   object \n",
      " 3   Unit quantity        1000 non-null   int64  \n",
      " 4   Weight               1000 non-null   float64\n",
      "dtypes: float64(1), int64(2), object(2)\n",
      "memory usage: 47.6+ KB\n"
     ]
    }
   ],
   "source": [
    "sc3_stage2.info()"
   ]
  },
  {
   "cell_type": "code",
   "execution_count": 25,
   "id": "21497d6f",
   "metadata": {},
   "outputs": [
    {
     "data": {
      "text/plain": [
       "V444_0    952\n",
       "V444_1     48\n",
       "Name: Carrier, dtype: int64"
      ]
     },
     "execution_count": 25,
     "metadata": {},
     "output_type": "execute_result"
    }
   ],
   "source": [
    "sc3_stage2.Carrier.value_counts()"
   ]
  },
  {
   "cell_type": "markdown",
   "id": "215cace5",
   "metadata": {},
   "source": [
    "#### Plot Graph"
   ]
  },
  {
   "cell_type": "code",
   "execution_count": 26,
   "id": "5c762ef4",
   "metadata": {},
   "outputs": [
    {
     "data": {
      "image/png": "[encoded data removed]",
      "text/plain": [
       "<Figure size 864x576 with 1 Axes>"
      ]
     },
     "metadata": {
      "needs_background": "light"
     },
     "output_type": "display_data"
    }
   ],
   "source": [
    "# index and column have the same name\n",
    "sc3_stage2.reset_index(inplace=True, drop=True)\n",
    "sc3_stage2.boxplot(by = \"Carrier\",column='Unit quantity', fontsize=12, figsize = (12, 8))\n",
    "plt.show()"
   ]
  },
  {
   "cell_type": "code",
   "execution_count": 27,
   "id": "6b58ebb0",
   "metadata": {},
   "outputs": [
    {
     "data": {
      "image/png": "[encoded data removed]",
      "text/plain": [
       "<Figure size 432x288 with 1 Axes>"
      ]
     },
     "metadata": {
      "needs_background": "light"
     },
     "output_type": "display_data"
    }
   ],
   "source": [
    "sns.boxplot(x=\"Carrier\", y=\"Unit quantity\", data=sc3_stage2, width=0.7, hue='Ship Late Day count').set_title(\"Unit Quantity by Carrier\")\n",
    "plt.xlabel('Type of Carrier')\n",
    "plt.ylabel('Unit Quantity')\n",
    "plt.show()"
   ]
  },
  {
   "cell_type": "code",
   "execution_count": 29,
   "id": "dcb76d46",
   "metadata": {},
   "outputs": [
    {
     "name": "stderr",
     "output_type": "stream",
     "text": [
      "C:\\Users\\susan\\anaconda3\\lib\\site-packages\\seaborn\\distributions.py:2619: FutureWarning: `distplot` is a deprecated function and will be removed in a future version. Please adapt your code to use either `displot` (a figure-level function with similar flexibility) or `histplot` (an axes-level function for histograms).\n",
      "  warnings.warn(msg, FutureWarning)\n",
      "C:\\Users\\susan\\anaconda3\\lib\\site-packages\\seaborn\\distributions.py:2619: FutureWarning: `distplot` is a deprecated function and will be removed in a future version. Please adapt your code to use either `displot` (a figure-level function with similar flexibility) or `histplot` (an axes-level function for histograms).\n",
      "  warnings.warn(msg, FutureWarning)\n"
     ]
    },
    {
     "data": {
      "text/plain": [
       "<seaborn.axisgrid.FacetGrid at 0x2c82f513cd0>"
      ]
     },
     "execution_count": 29,
     "metadata": {},
     "output_type": "execute_result"
    },
    {
     "data": {
      "image/png": "[encoded data removed]",
      "text/plain": [
       "<Figure size 864x432 with 2 Axes>"
      ]
     },
     "metadata": {
      "needs_background": "light"
     },
     "output_type": "display_data"
    }
   ],
   "source": [
    "g = sns.FacetGrid(sc3_stage2, col = 'Carrier', sharex=False, sharey=False, height=6,aspect=1)\n",
    "g.map(sns.distplot,'Unit quantity')\n",
    "# positive skewness -> skewed to the right"
   ]
  },
  {
   "cell_type": "code",
   "execution_count": 30,
   "id": "d302dd6b",
   "metadata": {},
   "outputs": [
    {
     "name": "stderr",
     "output_type": "stream",
     "text": [
      "C:\\Users\\susan\\anaconda3\\lib\\site-packages\\seaborn\\distributions.py:2619: FutureWarning: `distplot` is a deprecated function and will be removed in a future version. Please adapt your code to use either `displot` (a figure-level function with similar flexibility) or `histplot` (an axes-level function for histograms).\n",
      "  warnings.warn(msg, FutureWarning)\n",
      "C:\\Users\\susan\\anaconda3\\lib\\site-packages\\seaborn\\distributions.py:2619: FutureWarning: `distplot` is a deprecated function and will be removed in a future version. Please adapt your code to use either `displot` (a figure-level function with similar flexibility) or `histplot` (an axes-level function for histograms).\n",
      "  warnings.warn(msg, FutureWarning)\n"
     ]
    },
    {
     "data": {
      "text/plain": [
       "<seaborn.axisgrid.FacetGrid at 0x2c82f529b50>"
      ]
     },
     "execution_count": 30,
     "metadata": {},
     "output_type": "execute_result"
    },
    {
     "data": {
      "image/png": "[encoded data removed]",
      "text/plain": [
       "<Figure size 864x432 with 2 Axes>"
      ]
     },
     "metadata": {
      "needs_background": "light"
     },
     "output_type": "display_data"
    }
   ],
   "source": [
    "g2 = sns.FacetGrid(sc3_stage2, col = 'Ship Late Day count', sharex=False, sharey=False, height=6,aspect=1)\n",
    "g2.map(sns.distplot,'Unit quantity')\n",
    "# positive skewness -> skewed to the right"
   ]
  },
  {
   "cell_type": "markdown",
   "id": "02c80d0b",
   "metadata": {},
   "source": [
    "Question 4: Present the correlation between all the numeric variables. Explain the relationship between the variables using correlation values."
   ]
  },
  {
   "cell_type": "markdown",
   "id": "e1bdcc10",
   "metadata": {},
   "source": [
    "| Strength of Relationship | Correlation        |\n",
    "|:------------------------:|:-------------------|\n",
    "| Very Weak                | 0.01 - 0.20        |\n",
    "| Weak                     | 0.21 - 0.40        |\n",
    "| Moderate                 | 0.41 - 0.60        |\n",
    "| Strong                   | 0.61 - 0.80        |\n",
    "| Very Strong              | 0.81 - 0.99        |"
   ]
  },
  {
   "cell_type": "code",
   "execution_count": 31,
   "id": "d1a41331",
   "metadata": {},
   "outputs": [
    {
     "data": {
      "text/html": [
       "<div>\n",
       "<style scoped>\n",
       "    .dataframe tbody tr th:only-of-type {\n",
       "        vertical-align: middle;\n",
       "    }\n",
       "\n",
       "    .dataframe tbody tr th {\n",
       "        vertical-align: top;\n",
       "    }\n",
       "\n",
       "    .dataframe thead th {\n",
       "        text-align: right;\n",
       "    }\n",
       "</style>\n",
       "<table border=\"1\" class=\"dataframe\">\n",
       "  <thead>\n",
       "    <tr style=\"text-align: right;\">\n",
       "      <th></th>\n",
       "      <th>Ship Late Day count</th>\n",
       "      <th>Unit quantity</th>\n",
       "      <th>Weight</th>\n",
       "    </tr>\n",
       "  </thead>\n",
       "  <tbody>\n",
       "    <tr>\n",
       "      <th>Ship Late Day count</th>\n",
       "      <td>1.000000</td>\n",
       "      <td>-0.015532</td>\n",
       "      <td>-0.017252</td>\n",
       "    </tr>\n",
       "    <tr>\n",
       "      <th>Unit quantity</th>\n",
       "      <td>-0.015532</td>\n",
       "      <td>1.000000</td>\n",
       "      <td>0.344520</td>\n",
       "    </tr>\n",
       "    <tr>\n",
       "      <th>Weight</th>\n",
       "      <td>-0.017252</td>\n",
       "      <td>0.344520</td>\n",
       "      <td>1.000000</td>\n",
       "    </tr>\n",
       "  </tbody>\n",
       "</table>\n",
       "</div>"
      ],
      "text/plain": [
       "                     Ship Late Day count  Unit quantity    Weight\n",
       "Ship Late Day count             1.000000      -0.015532 -0.017252\n",
       "Unit quantity                  -0.015532       1.000000  0.344520\n",
       "Weight                         -0.017252       0.344520  1.000000"
      ]
     },
     "execution_count": 31,
     "metadata": {},
     "output_type": "execute_result"
    }
   ],
   "source": [
    "sc3.corr()"
   ]
  },
  {
   "cell_type": "code",
   "execution_count": 32,
   "id": "61067873",
   "metadata": {},
   "outputs": [
    {
     "data": {
      "image/png": "[encoded data removed]",
      "text/plain": [
       "<Figure size 360x360 with 1 Axes>"
      ]
     },
     "metadata": {
      "needs_background": "light"
     },
     "output_type": "display_data"
    }
   ],
   "source": [
    "sns.lmplot(x = \"Unit quantity\", y  = \"Weight\",data = sc3, ci = 95).fig.suptitle(\"Weight vs Unit Quantity\", y=1.01)\n",
    "plt.show()\n",
    "# weak positive correlation\n",
    "# if unit quantity increase, weight increase"
   ]
  },
  {
   "cell_type": "code",
   "execution_count": 34,
   "id": "e13eb8fc",
   "metadata": {},
   "outputs": [
    {
     "data": {
      "image/png": "[encoded data removed]",
      "text/plain": [
       "<Figure size 360x360 with 1 Axes>"
      ]
     },
     "metadata": {
      "needs_background": "light"
     },
     "output_type": "display_data"
    }
   ],
   "source": [
    "sns.lmplot(x = \"Unit quantity\", y  = \"Ship Late Day count\",data = sc3, ci = 95).fig.suptitle(\"Ship Late Day Count vs Unit Quantity\", y=1.01)\n",
    "plt.show()\n",
    "# very weak negative correlation or not correlated"
   ]
  },
  {
   "cell_type": "markdown",
   "id": "fae68917",
   "metadata": {},
   "source": [
    "Question 5: Calculate the measures of central tendancy and measures of dispersion for all the numerical variables. "
   ]
  },
  {
   "cell_type": "markdown",
   "id": "e31eed4d",
   "metadata": {},
   "source": [
    "#### Measures of Central Tendancy"
   ]
  },
  {
   "cell_type": "code",
   "execution_count": 35,
   "id": "b2bb0182",
   "metadata": {},
   "outputs": [
    {
     "data": {
      "text/plain": [
       "Unit quantity    3202.747151\n",
       "Weight             19.871688\n",
       "dtype: float64"
      ]
     },
     "execution_count": 35,
     "metadata": {},
     "output_type": "execute_result"
    }
   ],
   "source": [
    "sc3[['Unit quantity','Weight']].mean()"
   ]
  },
  {
   "cell_type": "code",
   "execution_count": 36,
   "id": "3ddec72c",
   "metadata": {},
   "outputs": [
    {
     "data": {
      "text/html": [
       "<div>\n",
       "<style scoped>\n",
       "    .dataframe tbody tr th:only-of-type {\n",
       "        vertical-align: middle;\n",
       "    }\n",
       "\n",
       "    .dataframe tbody tr th {\n",
       "        vertical-align: top;\n",
       "    }\n",
       "\n",
       "    .dataframe thead th {\n",
       "        text-align: right;\n",
       "    }\n",
       "</style>\n",
       "<table border=\"1\" class=\"dataframe\">\n",
       "  <thead>\n",
       "    <tr style=\"text-align: right;\">\n",
       "      <th></th>\n",
       "      <th>Carrier</th>\n",
       "      <th>Ship Late Day count</th>\n",
       "      <th>Plant Code</th>\n",
       "      <th>Unit quantity</th>\n",
       "      <th>Weight</th>\n",
       "    </tr>\n",
       "  </thead>\n",
       "  <tbody>\n",
       "    <tr>\n",
       "      <th>0</th>\n",
       "      <td>V444_0</td>\n",
       "      <td>0</td>\n",
       "      <td>PLANT03</td>\n",
       "      <td>334</td>\n",
       "      <td>4.404492</td>\n",
       "    </tr>\n",
       "  </tbody>\n",
       "</table>\n",
       "</div>"
      ],
      "text/plain": [
       "  Carrier  Ship Late Day count Plant Code  Unit quantity    Weight\n",
       "0  V444_0                    0    PLANT03            334  4.404492"
      ]
     },
     "execution_count": 36,
     "metadata": {},
     "output_type": "execute_result"
    }
   ],
   "source": [
    "sc3.mode()"
   ]
  },
  {
   "cell_type": "code",
   "execution_count": 37,
   "id": "1f2021e8",
   "metadata": {},
   "outputs": [
    {
     "data": {
      "text/plain": [
       "Unit quantity    477.00\n",
       "Weight             4.44\n",
       "dtype: float64"
      ]
     },
     "execution_count": 37,
     "metadata": {},
     "output_type": "execute_result"
    }
   ],
   "source": [
    "sc3[['Unit quantity','Weight']].median()"
   ]
  },
  {
   "cell_type": "markdown",
   "id": "baac3b3f",
   "metadata": {},
   "source": [
    "#### Measures of Dispersion"
   ]
  },
  {
   "cell_type": "code",
   "execution_count": 38,
   "id": "bf4b714c",
   "metadata": {},
   "outputs": [
    {
     "data": {
      "text/plain": [
       "Unit quantity    2.549011e+08\n",
       "Weight           4.431440e+03\n",
       "dtype: float64"
      ]
     },
     "execution_count": 38,
     "metadata": {},
     "output_type": "execute_result"
    }
   ],
   "source": [
    "sc3[['Unit quantity','Weight']].var()"
   ]
  },
  {
   "cell_type": "code",
   "execution_count": 39,
   "id": "7cdfcbe7",
   "metadata": {},
   "outputs": [
    {
     "data": {
      "text/plain": [
       "Unit quantity    15965.62\n",
       "Weight              66.57\n",
       "dtype: float64"
      ]
     },
     "execution_count": 39,
     "metadata": {},
     "output_type": "execute_result"
    }
   ],
   "source": [
    "round(sc3[['Unit quantity','Weight']].std(),2)"
   ]
  },
  {
   "cell_type": "markdown",
   "id": "a794d680",
   "metadata": {},
   "source": [
    "Question 6: Consider the given data as entity 1. Design two more related entities (entity 2 and entity 3) and design one entity relationship diagram to relate all the three entities. "
   ]
  },
  {
   "cell_type": "markdown",
   "id": "1142f538",
   "metadata": {},
   "source": [
    "#### Creating SQL Database"
   ]
  },
  {
   "cell_type": "code",
   "execution_count": 1,
   "id": "7e662324",
   "metadata": {},
   "outputs": [],
   "source": [
    "%load_ext sql\n",
    "%sql sqlite:///supply-chain.db"
   ]
  },
  {
   "cell_type": "code",
   "execution_count": 2,
   "id": "369acf75",
   "metadata": {},
   "outputs": [],
   "source": [
    "import sqlite3\n",
    "import sqlalchemy as sqla\n",
    "\n",
    "conn = sqlite3.connect('supply-chain.db')\n",
    "c = conn.cursor()"
   ]
  },
  {
   "cell_type": "code",
   "execution_count": 5,
   "id": "f70b6d51",
   "metadata": {},
   "outputs": [],
   "source": [
    "xlsx = pd.ExcelFile('./data/Supply chain logisitcs problem.xlsx')\n",
    "\n",
    "for sheet in xlsx.sheet_names:\n",
    "    globals()[f\"{sheet}_data\"] = pd.DataFrame(xlsx.parse(sheet))"
   ]
  },
  {
   "cell_type": "code",
   "execution_count": 6,
   "id": "4c770cc7",
   "metadata": {},
   "outputs": [
    {
     "name": "stdout",
     "output_type": "stream",
     "text": [
      "['OrderList_data', 'FreightRates_data', 'WhCosts_data', 'WhCapacities_data', 'ProductsPerPlant_data', 'VmiCustomers_data', 'PlantPorts_data']\n"
     ]
    }
   ],
   "source": [
    "sheetname =[]\n",
    "for sheet in xlsx.sheet_names:\n",
    "    sheetname.append(f\"{sheet}_data\")\n",
    "\n",
    "print(sheetname)"
   ]
  },
  {
   "cell_type": "code",
   "execution_count": 7,
   "id": "511b3fd6",
   "metadata": {},
   "outputs": [],
   "source": [
    "OrderList_data.columns = OrderList_data.columns.str.replace(' ', '')\n",
    "WhCosts_data.columns = WhCosts_data.columns.str.replace(' ', '')\n",
    "ProductsPerPlant_data.columns = ProductsPerPlant_data.columns.str.replace(' ', '')"
   ]
  },
  {
   "cell_type": "code",
   "execution_count": 8,
   "id": "34077f81",
   "metadata": {},
   "outputs": [
    {
     "data": {
      "text/plain": [
       "<sqlite3.Cursor at 0x192d6fb58f0>"
      ]
     },
     "execution_count": 8,
     "metadata": {},
     "output_type": "execute_result"
    }
   ],
   "source": [
    "# orders table\n",
    "c = sqlite3.connect('supply-chain.db')\n",
    "c.execute(\n",
    "\n",
    "    \"\"\"\n",
    "CREATE TABLE orders (\n",
    "    OrderID TEXT,\n",
    "    OrderDate DATE,\n",
    "    OriginPort TEXT NOT NULL,\n",
    "    Carrier TEXT NOT NULL,\n",
    "    TPT INTEGER,\n",
    "    ServiceLevel TEXT NOT NULL,\n",
    "    ShipAheadDayCount INTEGER,\n",
    "    ShipLateDayCount INTEGER,\n",
    "    Customer TEXT NOT NULL,\n",
    "    ProductID TEXT,\n",
    "    PlantCode TEXT,\n",
    "    DestinationPort TEXT,\n",
    "    UnitQuantity INTEGER,\n",
    "    Weight REAL,\n",
    "    PRIMARY KEY(OrderID),\n",
    "    FOREIGN KEY(ProductID) REFERENCES products(ProductID),\n",
    "    FOREIGN KEY(PlantCode) REFERENCES costs(PlantCode)\n",
    "    );\n",
    "    \n",
    "    \"\"\"\n",
    "    )\n",
    "\n",
    "\n",
    "# costs table\n",
    "\n",
    "c.execute(\n",
    "\n",
    "    \"\"\"\n",
    "CREATE TABLE costs (\n",
    "    PlantCode TEXT,\n",
    "    CostPerUnit REAL,\n",
    "    PRIMARY KEY(PlantCode)\n",
    "    );\n",
    "    \n",
    "    \"\"\"\n",
    "    )"
   ]
  },
  {
   "cell_type": "code",
   "execution_count": 9,
   "id": "a9bb961b",
   "metadata": {},
   "outputs": [
    {
     "data": {
      "text/plain": [
       "<sqlite3.Cursor at 0x192da44cab0>"
      ]
     },
     "execution_count": 9,
     "metadata": {},
     "output_type": "execute_result"
    }
   ],
   "source": [
    "c = sqlite3.connect('supply-chain.db')\n",
    "# products table\n",
    "\n",
    "c.execute(\n",
    "\n",
    "    \"\"\"\n",
    "CREATE TABLE products (\n",
    "    ID TEXT,\n",
    "    ProductID TEXT,\n",
    "    PlantCode TEXT,\n",
    "    PRIMARY KEY(ID)\n",
    "    FOREIGN KEY(PlantCode) REFERENCES costs(PlantCode)\n",
    "    );\n",
    "    \n",
    "    \"\"\"\n",
    "    )\n"
   ]
  },
  {
   "cell_type": "code",
   "execution_count": 10,
   "id": "9e1fb84f",
   "metadata": {},
   "outputs": [],
   "source": [
    "# transfers the data from each of the four data frames into the appropriate tables in the database\n",
    "OrderList_data.to_sql('orders', conn, if_exists='append', index=False)"
   ]
  },
  {
   "cell_type": "code",
   "execution_count": 11,
   "id": "1346815c",
   "metadata": {},
   "outputs": [],
   "source": [
    "ProductsPerPlant_data['ID'] = ProductsPerPlant_data.index"
   ]
  },
  {
   "cell_type": "code",
   "execution_count": 12,
   "id": "03c7459a",
   "metadata": {},
   "outputs": [],
   "source": [
    "ProductsPerPlant_data = ProductsPerPlant_data.reindex(columns=['ID', 'PlantCode', 'ProductID'])"
   ]
  },
  {
   "cell_type": "code",
   "execution_count": 13,
   "id": "c18d465a",
   "metadata": {},
   "outputs": [],
   "source": [
    "WhCosts_data.columns = ['PlantCode','CostPerUnit']"
   ]
  },
  {
   "cell_type": "code",
   "execution_count": 14,
   "id": "df83a19f",
   "metadata": {},
   "outputs": [],
   "source": [
    "WhCosts_data.to_sql('costs', conn, if_exists='append', index=False)"
   ]
  },
  {
   "cell_type": "code",
   "execution_count": 15,
   "id": "9491b46e",
   "metadata": {},
   "outputs": [],
   "source": [
    "ProductsPerPlant_data.to_sql('products', conn, if_exists='append', index=False)"
   ]
  },
  {
   "cell_type": "code",
   "execution_count": 16,
   "id": "3e86a129",
   "metadata": {},
   "outputs": [
    {
     "name": "stdout",
     "output_type": "stream",
     "text": [
      " * sqlite:///supply-chain.db\n",
      "Done.\n"
     ]
    },
    {
     "data": {
      "text/html": [
       "<table>\n",
       "    <tr>\n",
       "        <th>OrderID</th>\n",
       "        <th>OrderDate</th>\n",
       "        <th>OriginPort</th>\n",
       "        <th>Carrier</th>\n",
       "        <th>TPT</th>\n",
       "        <th>ServiceLevel</th>\n",
       "        <th>ShipAheadDayCount</th>\n",
       "        <th>ShipLateDayCount</th>\n",
       "        <th>Customer</th>\n",
       "        <th>ProductID</th>\n",
       "        <th>PlantCode</th>\n",
       "        <th>DestinationPort</th>\n",
       "        <th>UnitQuantity</th>\n",
       "        <th>Weight</th>\n",
       "    </tr>\n",
       "    <tr>\n",
       "        <td>1447296446.7</td>\n",
       "        <td>2013-05-26 00:00:00</td>\n",
       "        <td>PORT09</td>\n",
       "        <td>V44_3</td>\n",
       "        <td>1</td>\n",
       "        <td>CRF</td>\n",
       "        <td>3</td>\n",
       "        <td>0</td>\n",
       "        <td>V55555_53</td>\n",
       "        <td>1700106</td>\n",
       "        <td>PLANT16</td>\n",
       "        <td>PORT09</td>\n",
       "        <td>808</td>\n",
       "        <td>14.3</td>\n",
       "    </tr>\n",
       "    <tr>\n",
       "        <td>1447158014.7</td>\n",
       "        <td>2013-05-26 00:00:00</td>\n",
       "        <td>PORT09</td>\n",
       "        <td>V44_3</td>\n",
       "        <td>1</td>\n",
       "        <td>CRF</td>\n",
       "        <td>3</td>\n",
       "        <td>0</td>\n",
       "        <td>V55555_53</td>\n",
       "        <td>1700106</td>\n",
       "        <td>PLANT16</td>\n",
       "        <td>PORT09</td>\n",
       "        <td>3188</td>\n",
       "        <td>87.94</td>\n",
       "    </tr>\n",
       "    <tr>\n",
       "        <td>1447138898.7</td>\n",
       "        <td>2013-05-26 00:00:00</td>\n",
       "        <td>PORT09</td>\n",
       "        <td>V44_3</td>\n",
       "        <td>1</td>\n",
       "        <td>CRF</td>\n",
       "        <td>3</td>\n",
       "        <td>0</td>\n",
       "        <td>V55555_53</td>\n",
       "        <td>1700106</td>\n",
       "        <td>PLANT16</td>\n",
       "        <td>PORT09</td>\n",
       "        <td>2331</td>\n",
       "        <td>61.2</td>\n",
       "    </tr>\n",
       "</table>"
      ],
      "text/plain": [
       "[('1447296446.7', '2013-05-26 00:00:00', 'PORT09', 'V44_3', 1, 'CRF', 3, 0, 'V55555_53', '1700106', 'PLANT16', 'PORT09', 808, 14.3),\n",
       " ('1447158014.7', '2013-05-26 00:00:00', 'PORT09', 'V44_3', 1, 'CRF', 3, 0, 'V55555_53', '1700106', 'PLANT16', 'PORT09', 3188, 87.94),\n",
       " ('1447138898.7', '2013-05-26 00:00:00', 'PORT09', 'V44_3', 1, 'CRF', 3, 0, 'V55555_53', '1700106', 'PLANT16', 'PORT09', 2331, 61.2)]"
      ]
     },
     "execution_count": 16,
     "metadata": {},
     "output_type": "execute_result"
    }
   ],
   "source": [
    "%%sql \n",
    "SELECT * FROM orders LIMIT 3"
   ]
  },
  {
   "cell_type": "markdown",
   "id": "ff109f24",
   "metadata": {},
   "source": [
    "Question 7: Develop three problem statements for the given dataset."
   ]
  },
  {
   "cell_type": "code",
   "execution_count": 17,
   "id": "3b80947c",
   "metadata": {},
   "outputs": [],
   "source": [
    "### What are the top 3 products shipped among the period?\n",
    "### Which product has the highest cost and how much?\n",
    "### Which service level is most choosen as their shipping method?"
   ]
  },
  {
   "cell_type": "markdown",
   "id": "c0f08256",
   "metadata": {},
   "source": [
    "Question 8: Write 3 different SQL statements to extract specific data from entity1, entity 2 and entity 3 to solve the problems designed in Question 7. (combine data from different tables)"
   ]
  },
  {
   "cell_type": "markdown",
   "id": "568c92d6",
   "metadata": {},
   "source": [
    "#### What are the top 3 products shipped among the period?"
   ]
  },
  {
   "cell_type": "code",
   "execution_count": 18,
   "id": "5c9bb382",
   "metadata": {},
   "outputs": [
    {
     "name": "stdout",
     "output_type": "stream",
     "text": [
      " * sqlite:///supply-chain.db\n",
      "Done.\n"
     ]
    },
    {
     "data": {
      "text/html": [
       "<table>\n",
       "    <tr>\n",
       "        <th>ProductID</th>\n",
       "        <th>PlantCode</th>\n",
       "        <th>COUNT(ProductID)</th>\n",
       "    </tr>\n",
       "    <tr>\n",
       "        <td>1689547</td>\n",
       "        <td>PLANT03</td>\n",
       "        <td>192</td>\n",
       "    </tr>\n",
       "    <tr>\n",
       "        <td>1677878</td>\n",
       "        <td>PLANT03</td>\n",
       "        <td>140</td>\n",
       "    </tr>\n",
       "    <tr>\n",
       "        <td>1689548</td>\n",
       "        <td>PLANT03</td>\n",
       "        <td>133</td>\n",
       "    </tr>\n",
       "</table>"
      ],
      "text/plain": [
       "[('1689547', 'PLANT03', 192),\n",
       " ('1677878', 'PLANT03', 140),\n",
       " ('1689548', 'PLANT03', 133)]"
      ]
     },
     "execution_count": 18,
     "metadata": {},
     "output_type": "execute_result"
    }
   ],
   "source": [
    "%%sql\n",
    "SELECT ProductID, PlantCode, COUNT(ProductID) FROM orders\n",
    "GROUP BY ProductID\n",
    "ORDER BY COUNT(ProductID) DESC\n",
    "LIMIT 3;"
   ]
  },
  {
   "cell_type": "markdown",
   "id": "ca380606",
   "metadata": {},
   "source": [
    "#### Which product has the highest cost and how much?"
   ]
  },
  {
   "cell_type": "code",
   "execution_count": 19,
   "id": "d8befa54",
   "metadata": {},
   "outputs": [
    {
     "name": "stdout",
     "output_type": "stream",
     "text": [
      " * sqlite:///supply-chain.db\n",
      "Done.\n"
     ]
    },
    {
     "data": {
      "text/html": [
       "<table>\n",
       "    <tr>\n",
       "        <th>ProductID</th>\n",
       "        <th>PlantCode</th>\n",
       "        <th>UnitQuantity</th>\n",
       "        <th>CostPerUnit</th>\n",
       "        <th>Total Price</th>\n",
       "    </tr>\n",
       "    <tr>\n",
       "        <td>1695862</td>\n",
       "        <td>PLANT09</td>\n",
       "        <td>14293</td>\n",
       "        <td>0.46507109738293506</td>\n",
       "        <td>6647.26</td>\n",
       "    </tr>\n",
       "</table>"
      ],
      "text/plain": [
       "[('1695862', 'PLANT09', 14293, 0.46507109738293506, 6647.26)]"
      ]
     },
     "execution_count": 19,
     "metadata": {},
     "output_type": "execute_result"
    }
   ],
   "source": [
    "%%sql\n",
    "SELECT orders.ProductID, orders.PlantCode, orders.UnitQuantity,  costs.CostPerUnit, ROUND((orders.UnitQuantity * costs.CostPerUnit),2) as [Total Price] FROM orders\n",
    "LEFT JOIN costs \n",
    "ON orders.PlantCode = costs.PlantCode\n",
    "GROUP BY orders.PlantCode\n",
    "ORDER BY [Total Price] DESC\n",
    "LIMIT 1;"
   ]
  },
  {
   "cell_type": "markdown",
   "id": "43583ce1",
   "metadata": {},
   "source": [
    "#### Which service level is most choosen as their shipping method?"
   ]
  },
  {
   "cell_type": "code",
   "execution_count": 20,
   "id": "3e20364f",
   "metadata": {},
   "outputs": [
    {
     "name": "stdout",
     "output_type": "stream",
     "text": [
      " * sqlite:///supply-chain.db\n",
      "Done.\n"
     ]
    },
    {
     "data": {
      "text/html": [
       "<table>\n",
       "    <tr>\n",
       "        <th>ServiceLevel</th>\n",
       "        <th>COUNT(ServiceLevel)</th>\n",
       "    </tr>\n",
       "    <tr>\n",
       "        <td>DTP</td>\n",
       "        <td>6218</td>\n",
       "    </tr>\n",
       "    <tr>\n",
       "        <td>DTD</td>\n",
       "        <td>2143</td>\n",
       "    </tr>\n",
       "    <tr>\n",
       "        <td>CRF</td>\n",
       "        <td>854</td>\n",
       "    </tr>\n",
       "</table>"
      ],
      "text/plain": [
       "[('DTP', 6218), ('DTD', 2143), ('CRF', 854)]"
      ]
     },
     "execution_count": 20,
     "metadata": {},
     "output_type": "execute_result"
    }
   ],
   "source": [
    "%%sql\n",
    "SELECT ServiceLevel, COUNT(ServiceLevel) FROM orders\n",
    "GROUP BY ServiceLevel\n",
    "ORDER BY COUNT(ServiceLevel) DESC;"
   ]
  }
 ],
 "metadata": {
  "kernelspec": {
   "display_name": "Python 3 (ipykernel)",
   "language": "python",
   "name": "python3"
  },
  "language_info": {
   "codemirror_mode": {
    "name": "ipython",
    "version": 3
   },
   "file_extension": ".py",
   "mimetype": "text/x-python",
   "name": "python",
   "nbconvert_exporter": "python",
   "pygments_lexer": "ipython3",
   "version": "3.9.7"
  },
  "varInspector": {
   "cols": {
    "lenName": 16,
    "lenType": 16,
    "lenVar": 40
   },
   "kernels_config": {
    "python": {
     "delete_cmd_postfix": "",
     "delete_cmd_prefix": "del ",
     "library": "var_list.py",
     "varRefreshCmd": "print(var_dic_list())"
    },
    "r": {
     "delete_cmd_postfix": ") ",
     "delete_cmd_prefix": "rm(",
     "library": "var_list.r",
     "varRefreshCmd": "cat(var_dic_list()) "
    }
   },
   "position": {
    "height": "812.844px",
    "left": "1526px",
    "right": "20px",
    "top": "120px",
    "width": "374px"
   },
   "types_to_exclude": [
    "module",
    "function",
    "builtin_function_or_method",
    "instance",
    "_Feature"
   ],
   "window_display": true
  }
 },
 "nbformat": 4,
 "nbformat_minor": 5
}
